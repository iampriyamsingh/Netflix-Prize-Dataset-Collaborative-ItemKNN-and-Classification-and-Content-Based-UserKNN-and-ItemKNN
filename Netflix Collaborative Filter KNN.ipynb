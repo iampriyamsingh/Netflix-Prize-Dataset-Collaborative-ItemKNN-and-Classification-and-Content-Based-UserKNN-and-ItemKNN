{
 "cells": [
  {
   "cell_type": "markdown",
   "metadata": {},
   "source": [
    "# Netflix Collaborative Filter using ItemKNN"
   ]
  },
  {
   "cell_type": "markdown",
   "metadata": {},
   "source": [
    "# 1. Importing Files"
   ]
  },
  {
   "cell_type": "markdown",
   "metadata": {},
   "source": [
    "Importing the desired Libraries"
   ]
  },
  {
   "cell_type": "code",
   "execution_count": 8,
   "metadata": {},
   "outputs": [],
   "source": [
    "import pandas as pd\n",
    "import matplotlib.pyplot as plt\n",
    "\n",
    "# For Surprise library\n",
    "import surprise\n",
    "from surprise import KNNBasic, Reader, Dataset\n",
    "from surprise.model_selection import train_test_split\n",
    "from surprise import KNNBasic\n",
    "from surprise.accuracy import rmse\n",
    "from scipy.sparse import csr_matrix\n",
    "import matplotlib.pyplot as plt\n",
    "\n",
    "# For Matrix Creation\n",
    "from sklearn.model_selection import train_test_split\n",
    "from sklearn.metrics.pairwise import cosine_similarity\n",
    "from scipy.spatial.distance import pdist, squareform\n",
    "from sklearn.metrics import mean_squared_error\n",
    "from math import sqrt\n",
    "from scipy.spatial.distance import pdist, squareform"
   ]
  },
  {
   "cell_type": "markdown",
   "metadata": {},
   "source": [
    "# 2. Exploratory Data Analysis"
   ]
  },
  {
   "cell_type": "markdown",
   "metadata": {},
   "source": [
    "Since, there were 4 combined_data.txt files in txt format. It contains the MovieID, CustomerID, Rating and Date. These python code below combine them and convert them to CSV."
   ]
  },
  {
   "cell_type": "code",
   "execution_count": null,
   "metadata": {},
   "outputs": [],
   "source": [
    "# Define the function to load combined data files\n",
    "def load_combined_data(file_path):\n",
    "    data = []\n",
    "    movie_id = None\n",
    "    with open(file_path, 'r') as file:\n",
    "        for line in file:\n",
    "            if line.endswith(':\\n'):\n",
    "                movie_id = line.replace(':', '').strip()\n",
    "            else:\n",
    "                customer_id, rating, date = line.strip().split(',')\n",
    "                data.append([movie_id, customer_id, rating, date])\n",
    "    return pd.DataFrame(data, columns=['MovieID', 'CustomerID', 'Rating', 'Date'])\n",
    "\n",
    "# List of file paths using raw strings or double backslashes\n",
    "combined_data_files = [\n",
    "    'combined_data_1.txt',\n",
    "    'combined_data_2.txt',\n",
    "    'combined_data_3.txt',\n",
    "    'combined_data_4.txt'\n",
    "]\n",
    "\n",
    "\n",
    "# Load all combined_data files\n",
    "all_data_frames = [load_combined_data(file) for file in combined_data_files]\n",
    "\n",
    "# Concatenate all dataframes into a single dataframe\n",
    "combined_data_df = pd.concat(all_data_frames, ignore_index=True)\n",
    "\n",
    "# Display the first few rows of the combined dataframe\n",
    "print(combined_data_df.head())\n",
    "\n",
    "# Save the dataframe to a new CSV file\n",
    "combined_data_df.to_csv('combined_data.csv', index=False)\n"
   ]
  },
  {
   "cell_type": "markdown",
   "metadata": {},
   "source": [
    "Sorting the combined_data file based on MovieID"
   ]
  },
  {
   "cell_type": "code",
   "execution_count": 17,
   "metadata": {},
   "outputs": [
    {
     "name": "stdout",
     "output_type": "stream",
     "text": [
      "   MovieID  CustomerID  Rating\n",
      "0        1     1488844       3\n",
      "1        1     1605780       4\n",
      "2        1     2005193       4\n",
      "3        1     1565175       5\n",
      "4        1      493945       5\n"
     ]
    }
   ],
   "source": [
    "# Sorting the DataFrame based on 'MovieID' in ascending order.\n",
    "combined_data_df = combined_data_df.sort_values(by='MovieID', ascending=True)\n",
    "\n",
    "# Resetting the index of the DataFrame after sorting.\n",
    "combined_data_df = combined_data_df.reset_index(drop=True)\n",
    "\n",
    "# Now combined_data_df is sorted in ascending order by 'MovieID'.\n",
    "# You can display the first few rows to confirm.\n",
    "print(combined_data_df.head())"
   ]
  },
  {
   "cell_type": "markdown",
   "metadata": {},
   "source": [
    "Loading the probe, qualifying and movie titles dataset - "
   ]
  },
  {
   "cell_type": "code",
   "execution_count": 6,
   "metadata": {},
   "outputs": [
    {
     "name": "stdout",
     "output_type": "stream",
     "text": [
      "  MovieID CustomerID\n",
      "0       1      30878\n",
      "1       1    2647871\n",
      "2       1    1283744\n",
      "3       1    2488120\n",
      "4       1     317050\n",
      "  MovieID CustomerID        Date\n",
      "0       1    1046323  2005-12-19\n",
      "1       1    1080030  2005-12-23\n",
      "2       1    1830096  2005-03-14\n",
      "3       1     368059  2005-05-26\n",
      "4       1     802003  2005-11-07\n",
      "  MovieID YearOfRelease                         Title\n",
      "0       1          2003               Dinosaur Planet\n",
      "1       2          2004    Isle of Man TT 2004 Review\n",
      "2       3          1997                     Character\n",
      "3       4          1994  Paula Abdul's Get Up & Dance\n",
      "4       5          2004      The Rise and Fall of ECW\n"
     ]
    }
   ],
   "source": [
    "# Function to load probe data\n",
    "def load_probe(file_path):\n",
    "    probe_data = []\n",
    "    movie_id = None\n",
    "    with open(file_path, 'r') as file:\n",
    "        for line in file:\n",
    "            if line.endswith(':\\n'):\n",
    "                movie_id = line.rstrip(':\\n')\n",
    "            else:\n",
    "                customer_id = line.strip()\n",
    "                probe_data.append([movie_id, customer_id])\n",
    "    probe_df = pd.DataFrame(probe_data, columns=['MovieID', 'CustomerID'])\n",
    "    return probe_df\n",
    "\n",
    "# Function to load qualifying data\n",
    "def load_qualifying(file_path):\n",
    "    qualifying_data = []\n",
    "    movie_id = None\n",
    "    with open(file_path, 'r') as file:\n",
    "        for line in file:\n",
    "            if line.endswith(':\\n'):\n",
    "                movie_id = line.rstrip(':\\n')\n",
    "            else:\n",
    "                customer_id, date = line.strip().split(',')\n",
    "                qualifying_data.append([movie_id, customer_id, date])\n",
    "    qualifying_df = pd.DataFrame(qualifying_data, columns=['MovieID', 'CustomerID', 'Date'])\n",
    "    return qualifying_df\n",
    "\n",
    "# Function to load movie titles data\n",
    "def load_movie_titles(file_path):\n",
    "    # Adjusted as per your input to handle commas in movie titles\n",
    "    movie_titles_data = []\n",
    "    with open(file_path, 'r', encoding='ISO-8859-1') as file:\n",
    "        for line in file:\n",
    "            # Split the line only on the first two commas\n",
    "            parts = line.strip().split(',', 2)\n",
    "            if len(parts) < 3:\n",
    "                # Handle any rows that do not have the expected number of fields\n",
    "                continue\n",
    "            movie_id, year, title = parts\n",
    "            movie_titles_data.append([movie_id, year, title])\n",
    "\n",
    "    movie_titles_df = pd.DataFrame(movie_titles_data, columns=['MovieID', 'YearOfRelease', 'Title'])\n",
    "    return movie_titles_df\n",
    "\n",
    "# Load the probe dataset\n",
    "probe_file_path = 'probe.txt'\n",
    "probe_df = load_probe(probe_file_path)\n",
    "\n",
    "# Load the qualifying dataset\n",
    "qualifying_file_path = 'qualifying.txt'\n",
    "qualifying_df = load_qualifying(qualifying_file_path)\n",
    "\n",
    "# Load the movie titles dataset\n",
    "movie_titles_file_path = 'movie_titles.csv'\n",
    "movie_titles_df = load_movie_titles(movie_titles_file_path)\n",
    "\n",
    "# Display the first few rows of each DataFrame\n",
    "print(probe_df.head())\n",
    "print(qualifying_df.head())\n",
    "print(movie_titles_df.head())"
   ]
  },
  {
   "cell_type": "markdown",
   "metadata": {},
   "source": [
    "Getting the data overview of all these files i.e. probe, qualifying, movie_titles and combined_data."
   ]
  },
  {
   "cell_type": "code",
   "execution_count": 10,
   "metadata": {},
   "outputs": [
    {
     "name": "stdout",
     "output_type": "stream",
     "text": [
      "<class 'pandas.core.frame.DataFrame'>\n",
      "RangeIndex: 1408395 entries, 0 to 1408394\n",
      "Data columns (total 2 columns):\n",
      " #   Column      Non-Null Count    Dtype \n",
      "---  ------      --------------    ----- \n",
      " 0   MovieID     1408395 non-null  object\n",
      " 1   CustomerID  1408395 non-null  object\n",
      "dtypes: object(2)\n",
      "memory usage: 21.5+ MB\n",
      "None\n",
      "<class 'pandas.core.frame.DataFrame'>\n",
      "RangeIndex: 2817131 entries, 0 to 2817130\n",
      "Data columns (total 3 columns):\n",
      " #   Column      Dtype \n",
      "---  ------      ----- \n",
      " 0   MovieID     object\n",
      " 1   CustomerID  object\n",
      " 2   Date        object\n",
      "dtypes: object(3)\n",
      "memory usage: 64.5+ MB\n",
      "None\n",
      "<class 'pandas.core.frame.DataFrame'>\n",
      "RangeIndex: 17770 entries, 0 to 17769\n",
      "Data columns (total 3 columns):\n",
      " #   Column         Non-Null Count  Dtype \n",
      "---  ------         --------------  ----- \n",
      " 0   MovieID        17770 non-null  object\n",
      " 1   YearOfRelease  17770 non-null  object\n",
      " 2   Title          17770 non-null  object\n",
      "dtypes: object(3)\n",
      "memory usage: 416.6+ KB\n",
      "None\n",
      "<class 'pandas.core.frame.DataFrame'>\n",
      "RangeIndex: 100480507 entries, 0 to 100480506\n",
      "Data columns (total 4 columns):\n",
      " #   Column      Dtype \n",
      "---  ------      ----- \n",
      " 0   MovieID     int64 \n",
      " 1   CustomerID  int64 \n",
      " 2   Rating      int64 \n",
      " 3   Date        object\n",
      "dtypes: int64(3), object(1)\n",
      "memory usage: 3.0+ GB\n",
      "None\n"
     ]
    }
   ],
   "source": [
    "# Data Overview\n",
    "\n",
    "combined_data_df = pd.read_csv('combined_data.csv')\n",
    "print(probe_df.info())\n",
    "print(qualifying_df.info())\n",
    "print(movie_titles_df.info())\n",
    "print(combined_data_df.info())\n",
    "\n"
   ]
  },
  {
   "cell_type": "code",
   "execution_count": 11,
   "metadata": {},
   "outputs": [
    {
     "name": "stdout",
     "output_type": "stream",
     "text": [
      "count     17770\n",
      "unique       95\n",
      "top        2004\n",
      "freq       1436\n",
      "Name: YearOfRelease, dtype: object\n"
     ]
    }
   ],
   "source": [
    "# Summary Statistics\n",
    "# For the probe and qualifying datasets, we only have user IDs and movie IDs, no numerical data to summarize.\n",
    "# For movie_titles, we can look at the distribution of the year of release.\n",
    "print(movie_titles_df['YearOfRelease'].describe())\n"
   ]
  },
  {
   "cell_type": "code",
   "execution_count": 12,
   "metadata": {},
   "outputs": [
    {
     "name": "stdout",
     "output_type": "stream",
     "text": [
      "count    1.004805e+08\n",
      "mean     9.070915e+03\n",
      "std      5.131891e+03\n",
      "min      1.000000e+00\n",
      "25%      4.677000e+03\n",
      "50%      9.051000e+03\n",
      "75%      1.363500e+04\n",
      "max      1.777000e+04\n",
      "Name: MovieID, dtype: float64\n"
     ]
    }
   ],
   "source": [
    "print(combined_data_df['MovieID'].describe())"
   ]
  },
  {
   "cell_type": "code",
   "execution_count": 1,
   "metadata": {},
   "outputs": [
    {
     "name": "stdout",
     "output_type": "stream",
     "text": [
      "The number of lines in the file is: 100480508\n"
     ]
    }
   ],
   "source": [
    "# Count the number of lines in the CSV\n",
    "file_path = 'combined_data.csv'\n",
    "with open(file_path, 'r') as file:\n",
    "    line_count = sum(1 for line in file)\n",
    "\n",
    "print(f\"The number of lines in the file is: {line_count}\")\n"
   ]
  },
  {
   "cell_type": "code",
   "execution_count": 5,
   "metadata": {},
   "outputs": [
    {
     "name": "stdout",
     "output_type": "stream",
     "text": [
      "<class 'pandas.core.frame.DataFrame'>\n",
      "RangeIndex: 100480507 entries, 0 to 100480506\n",
      "Data columns (total 4 columns):\n",
      " #   Column      Dtype \n",
      "---  ------      ----- \n",
      " 0   MovieID     int64 \n",
      " 1   CustomerID  int64 \n",
      " 2   Rating      int64 \n",
      " 3   Date        object\n",
      "dtypes: int64(3), object(1)\n",
      "memory usage: 3.0+ GB\n",
      "None\n",
      "   MovieID  CustomerID  Rating        Date\n",
      "0        1     1488844       3  2005-09-06\n",
      "1        1      822109       5  2005-05-13\n",
      "2        1      885013       4  2005-10-19\n",
      "3        1       30878       4  2005-12-26\n",
      "4        1      823519       3  2004-05-03\n",
      "            MovieID    CustomerID        Rating\n",
      "count  1.004805e+08  1.004805e+08  1.004805e+08\n",
      "mean   9.070915e+03  1.322489e+06  3.604290e+00\n",
      "std    5.131891e+03  7.645368e+05  1.085219e+00\n",
      "min    1.000000e+00  6.000000e+00  1.000000e+00\n",
      "25%    4.677000e+03  6.611980e+05  3.000000e+00\n",
      "50%    9.051000e+03  1.319012e+06  4.000000e+00\n",
      "75%    1.363500e+04  1.984455e+06  4.000000e+00\n",
      "max    1.777000e+04  2.649429e+06  5.000000e+00\n"
     ]
    }
   ],
   "source": [
    "# Load the dataset\n",
    "combined_data_df = pd.read_csv('combined_data.csv')\n",
    "\n",
    "# Basic information about the dataset\n",
    "print(combined_data_df.info())\n",
    "\n",
    "# Display the first few entries\n",
    "print(combined_data_df.head())\n",
    "\n",
    "# Summary statistics for numerical features\n",
    "print(combined_data_df.describe())"
   ]
  },
  {
   "cell_type": "code",
   "execution_count": 6,
   "metadata": {},
   "outputs": [
    {
     "name": "stdout",
     "output_type": "stream",
     "text": [
      "MovieID       0\n",
      "CustomerID    0\n",
      "Rating        0\n",
      "Date          0\n",
      "dtype: int64\n"
     ]
    }
   ],
   "source": [
    "# Check for missing values\n",
    "print(combined_data_df.isnull().sum())"
   ]
  },
  {
   "cell_type": "code",
   "execution_count": 7,
   "metadata": {},
   "outputs": [
    {
     "name": "stdout",
     "output_type": "stream",
     "text": [
      "Unique values in MovieID: 17770\n",
      "Unique values in CustomerID: 480189\n",
      "Unique values in Rating: 5\n",
      "Unique values in Date: 2182\n",
      "4    33750958\n",
      "3    28811247\n",
      "5    23168232\n",
      "2    10132080\n",
      "1     4617990\n",
      "Name: Rating, dtype: int64\n"
     ]
    }
   ],
   "source": [
    "# Unique values in each column\n",
    "for column in combined_data_df.columns:\n",
    "    print(f\"Unique values in {column}: {combined_data_df[column].nunique()}\")\n",
    "\n",
    "# Distribution of ratings\n",
    "print(combined_data_df['Rating'].value_counts())"
   ]
  },
  {
   "cell_type": "code",
   "execution_count": 8,
   "metadata": {},
   "outputs": [
    {
     "name": "stdout",
     "output_type": "stream",
     "text": [
      "Date\n",
      "1999        2178\n",
      "2000      924443\n",
      "2001     1769031\n",
      "2002     4342871\n",
      "2003     9985337\n",
      "2004    30206574\n",
      "2005    53250073\n",
      "Name: Rating, dtype: int64\n"
     ]
    }
   ],
   "source": [
    "# Convert 'Date' to datetime and check ratings over time\n",
    "combined_data_df['Date'] = pd.to_datetime(combined_data_df['Date'])\n",
    "ratings_over_time = combined_data_df.groupby(combined_data_df['Date'].dt.year)['Rating'].count()\n",
    "print(ratings_over_time)"
   ]
  },
  {
   "cell_type": "code",
   "execution_count": 11,
   "metadata": {},
   "outputs": [
    {
     "data": {
      "image/png": "[encoded data removed]",
      "text/plain": [
       "<Figure size 1000x600 with 1 Axes>"
      ]
     },
     "metadata": {},
     "output_type": "display_data"
    }
   ],
   "source": [
    "# Plotting ratings over time\n",
    "plt.figure(figsize=(10, 6))\n",
    "ratings_over_time.plot(kind='bar')\n",
    "plt.title('Ratings Over Time')\n",
    "plt.xlabel('Year')\n",
    "plt.ylabel('Number of Ratings')\n",
    "plt.xticks(rotation=45)\n",
    "plt.show()\n"
   ]
  },
  {
   "cell_type": "markdown",
   "metadata": {},
   "source": [
    "# 3. Performing Collaborative Filter using Item-based rating prediction"
   ]
  },
  {
   "cell_type": "markdown",
   "metadata": {},
   "source": [
    "There are 2 methods to do create Item based KNN both are covered below :\n",
    "- 3.1 : Using Surprise Library\n",
    "- 3.2 : Using Matrix Creation"
   ]
  },
  {
   "cell_type": "markdown",
   "metadata": {},
   "source": [
    "## 3.1. Using Surprise Library"
   ]
  },
  {
   "cell_type": "markdown",
   "metadata": {},
   "source": [
    "There are 3 ways to calculate similarity using surprise library all of them are covered below :\n",
    "- a) Cosine Similarity\n",
    "- b) MSD Similarity (Mean Squared Difference)\n",
    "- c) Pearson Correlation Similarity"
   ]
  },
  {
   "cell_type": "markdown",
   "metadata": {},
   "source": [
    "### 3.1.1. Cosine Similarity"
   ]
  },
  {
   "cell_type": "code",
   "execution_count": 1,
   "metadata": {},
   "outputs": [
    {
     "name": "stdout",
     "output_type": "stream",
     "text": [
      "scikit-surprise is installed and ready!\n"
     ]
    }
   ],
   "source": [
    "try:\n",
    "    import surprise\n",
    "    print(\"scikit-surprise is installed and ready!\")\n",
    "except ImportError:\n",
    "    print(\"scikit-surprise is not installed.\")"
   ]
  },
  {
   "cell_type": "code",
   "execution_count": 1,
   "metadata": {},
   "outputs": [
    {
     "name": "stdout",
     "output_type": "stream",
     "text": [
      "RMSE: 1.0298\n",
      "RMSE: 1.029845675445635\n",
      "MSE: 1.017623683297236\n"
     ]
    }
   ],
   "source": [
    "from surprise import KNNBasic, Reader, Dataset\n",
    "from surprise.model_selection import train_test_split\n",
    "from surprise.accuracy import rmse\n",
    "import pandas as pd\n",
    "import numpy as np\n",
    "\n",
    "# Load the Data\n",
    "combined_data_df = pd.read_csv('combined_data.csv')\n",
    "sample_data = combined_data_df[combined_data_df['MovieID']]\n",
    "\n",
    "# Setup data for Surprise\n",
    "reader = Reader(rating_scale=(1, 5))\n",
    "data = Dataset.load_from_df(sample_data[['CustomerID', 'MovieID', 'Rating']], reader)\n",
    "trainset, testset = train_test_split(data, test_size=0.25)\n",
    "\n",
    "# Initialize the algorithm\n",
    "sim_options = {\n",
    "    'name': 'cosine',\n",
    "    'user_based': False  # Item-based similarity\n",
    "}\n",
    "algo = KNNBasic(sim_options=sim_options)\n",
    "\n",
    "# Train and predict\n",
    "algo.fit(trainset)\n",
    "predictions = algo.test(testset)\n",
    "\n",
    "# Calculate RMSE\n",
    "rmse_val = rmse(predictions)\n",
    "\n",
    "# Manually calculate MSE\n",
    "mse_val = np.mean([float((pred.est - pred.r_ui) ** 2) for pred in predictions])\n",
    "\n",
    "print(f\"RMSE: {rmse_val}\")\n",
    "print(f\"MSE: {mse_val}\")"
   ]
  },
  {
   "cell_type": "markdown",
   "metadata": {},
   "source": [
    "Summary - This code uses Suprise to first get the cosine similarity matrix. It uses the cosine similarity matrix to calculate the RMSE and MSE."
   ]
  },
  {
   "cell_type": "markdown",
   "metadata": {},
   "source": [
    "Since, the above code was taking a lot of time. We will convert the combined_data file to parquet and try different method of similarity. "
   ]
  },
  {
   "cell_type": "markdown",
   "metadata": {},
   "source": [
    "### 3.1.2. MSD Similarity (Mean Squared Difference)"
   ]
  },
  {
   "cell_type": "markdown",
   "metadata": {},
   "source": [
    "This code creates MSD Similarity Matrix instead of Cosine as used above."
   ]
  },
  {
   "cell_type": "code",
   "execution_count": 9,
   "metadata": {},
   "outputs": [
    {
     "name": "stdout",
     "output_type": "stream",
     "text": [
      "RMSE: 0.9401\n",
      "RMSE: 0.9401110421321236\n",
      "MSE: 0.8838087715387475\n"
     ]
    }
   ],
   "source": [
    "\n",
    "# Load the dataset\n",
    "combined_data_df = pd.read_parquet('combined_data.parquet')\n",
    "\n",
    "# Assuming combined_data_df has columns ['CustomerID', 'MovieID', 'Rating']\n",
    "# Setup the reader with the rating scale\n",
    "reader = Reader(rating_scale=(1, 5))\n",
    "\n",
    "# Load the dataset into Surprise's format from the DataFrame\n",
    "data = Dataset.load_from_df(combined_data_df[['CustomerID', 'MovieID', 'Rating']], reader)\n",
    "\n",
    " # Split the data into training and test set (80% train, 20% test)\n",
    "trainset, testset = train_test_split(data, test_size=0.20)\n",
    "\n",
    "# Define the algorithm with item-based configuration\n",
    "sim_options = {\n",
    "    'name': 'msd',  # Using MSD \n",
    "    'user_based': False  # Item-based CF\n",
    "}\n",
    "\n",
    "algo = KNNBasic(sim_options=sim_options)\n",
    "\n",
    "# Train the algorithm\n",
    "algo.fit(trainset)\n",
    "\n",
    "# Make predictions on the test set\n",
    "predictions = algo.test(testset)\n",
    "\n",
    "# Calculate and print RMSE\n",
    "rmse_val = rmse(predictions)\n",
    "\n",
    "# Manually calculate and print MSE\n",
    "mse_val = np.mean([(pred.est - pred.r_ui) ** 2 for pred in predictions])\n",
    "print(f\"RMSE: {rmse_val}\")\n",
    "print(f\"MSE: {mse_val}\")\n"
   ]
  },
  {
   "cell_type": "markdown",
   "metadata": {},
   "source": [
    "Summary - This code uses Suprise to first get MSD similarity matrix. It uses the cosine similarity matrix to calculate the RMSE and MSE. We can also see that RMSE and MSE have dropped singificantly compared to cosine similarity."
   ]
  },
  {
   "cell_type": "markdown",
   "metadata": {},
   "source": [
    "### 3.1.3. Pearson Correlation Similarity"
   ]
  },
  {
   "cell_type": "markdown",
   "metadata": {},
   "source": [
    "Now we will use Pearson Correlation as a measure of similarity. "
   ]
  },
  {
   "cell_type": "code",
   "execution_count": 13,
   "metadata": {},
   "outputs": [
    {
     "name": "stdout",
     "output_type": "stream",
     "text": [
      "RMSE: 0.9601\n",
      "RMSE: 0.9601358401433122\n",
      "MSE: 0.921860831527704\n"
     ]
    }
   ],
   "source": [
    "\n",
    "# Load the dataset\n",
    "combined_data_df = pd.read_parquet('combined_data.parquet')\n",
    "\n",
    "# Assuming combined_data_df has columns ['CustomerID', 'MovieID', 'Rating']\n",
    "# Setup the reader with the rating scale\n",
    "reader = Reader(rating_scale=(1, 5))\n",
    "\n",
    "# Load the dataset into Surprise's format from the DataFrame\n",
    "data = Dataset.load_from_df(combined_data_df[['CustomerID', 'MovieID', 'Rating']], reader)\n",
    "\n",
    "# Split the data into training and test set (80% train, 20% test)\n",
    "trainset, testset = train_test_split(data, test_size=0.20)\n",
    "\n",
    "# Define the algorithm with item-based configuration\n",
    "sim_options = {\n",
    "    'name': 'pearson',  # Using pearson correlation\n",
    "    'user_based': False  # Item-based CF\n",
    "}\n",
    "\n",
    "algo = KNNBasic(sim_options=sim_options)\n",
    "\n",
    "# Train the algorithm\n",
    "algo.fit(trainset)\n",
    "\n",
    "# Make predictions on the test set\n",
    "predictions = algo.test(testset)\n",
    "\n",
    "# Calculate and print RMSE\n",
    "rmse_val = rmse(predictions)\n",
    "\n",
    "# Manually calculate and print MSE\n",
    "mse_val = np.mean([(pred.est - pred.r_ui) ** 2 for pred in predictions])\n",
    "print(f\"RMSE: {rmse_val}\")\n",
    "print(f\"MSE: {mse_val}\")\n"
   ]
  },
  {
   "cell_type": "markdown",
   "metadata": {},
   "source": [
    "Summary - This code uses Suprise to first get Pearson Correlation matrix. It uses the Pearson Correlation matrix to calculate the RMSE and MSE. We can also see that RMSE and MSE have is less than Cosine SImilarity method and greater then MSD method."
   ]
  },
  {
   "cell_type": "markdown",
   "metadata": {},
   "source": [
    "## 3.2. Using Matrix Creation"
   ]
  },
  {
   "cell_type": "markdown",
   "metadata": {},
   "source": [
    "#### 3.2.1. Creating Sparcity Matrix"
   ]
  },
  {
   "cell_type": "markdown",
   "metadata": {},
   "source": [
    "Let us start by creating Sparcity matrix. Sparcity matrix contains CustomerID in first column and MovieID as the Header of each row with Ratings in the middle. For ItemKNN, matrix will be transformed eventually."
   ]
  },
  {
   "cell_type": "code",
   "execution_count": 6,
   "metadata": {},
   "outputs": [],
   "source": [
    "# Load the dataset\n",
    "combined_data_df = pd.read_csv('combined_data.csv', usecols=['MovieID', 'CustomerID', 'Rating'])"
   ]
  },
  {
   "cell_type": "code",
   "execution_count": 7,
   "metadata": {},
   "outputs": [],
   "source": [
    "# Map MovieID and CustomerID to unique integer indices\n",
    "movie_mapper = {movie_id: i for i, movie_id in enumerate(combined_data_df['MovieID'].unique())}\n",
    "customer_mapper = {customer_id: i for i, customer_id in enumerate(combined_data_df['CustomerID'].unique())}\n",
    "\n",
    "# Map the MovieIDs and CustomerIDs to their respective indices\n",
    "combined_data_df['MovieIdx'] = combined_data_df['MovieID'].map(movie_mapper)\n",
    "combined_data_df['CustomerIdx'] = combined_data_df['CustomerID'].map(customer_mapper)\n",
    "\n",
    "# Create the sparse matrix\n",
    "sparse_matrix = csr_matrix(\n",
    "    (combined_data_df['Rating'], (combined_data_df['CustomerIdx'], combined_data_df['MovieIdx'])),\n",
    "    shape=(len(customer_mapper), len(movie_mapper))\n",
    ")\n"
   ]
  },
  {
   "cell_type": "markdown",
   "metadata": {},
   "source": [
    "Lets plot the Rating matrix to visualize its sparcity. "
   ]
  },
  {
   "cell_type": "code",
   "execution_count": 10,
   "metadata": {},
   "outputs": [
    {
     "data": {
      "image/png": "[encoded data removed]",
      "text/plain": [
       "<Figure size 1000x1000 with 1 Axes>"
      ]
     },
     "metadata": {},
     "output_type": "display_data"
    }
   ],
   "source": [
    "# Assuming combined_data_df is already loaded and has 'MovieID', 'CustomerID', and 'Rating' columns\n",
    "# For demonstration, let's work with a smaller subset of the data to make the visualization clearer\n",
    "subset_data = combined_data_df.sample(n=10000, random_state=42)\n",
    "\n",
    "# Create a mapping for MovieID and CustomerID to integer indices\n",
    "movie_idx = {movie: idx for idx, movie in enumerate(np.unique(subset_data['MovieID']))}\n",
    "customer_idx = {customer: idx for idx, customer in enumerate(np.unique(subset_data['CustomerID']))}\n",
    "\n",
    "# Apply mapping\n",
    "subset_data['MovieIdx'] = subset_data['MovieID'].map(movie_idx)\n",
    "subset_data['CustomerIdx'] = subset_data['CustomerID'].map(customer_idx)\n",
    "\n",
    "# Create the sparse matrix\n",
    "rows = subset_data['CustomerIdx']\n",
    "cols = subset_data['MovieIdx']\n",
    "ratings = subset_data['Rating']\n",
    "\n",
    "sparse_matrix = csr_matrix((ratings, (rows, cols)), shape=(len(customer_idx), len(movie_idx)))\n",
    "\n",
    "# Visualize a portion of the sparse matrix\n",
    "plt.figure(figsize=(10, 10))\n",
    "plt.spy(sparse_matrix, markersize=1, aspect='auto')\n",
    "plt.title('Sparsity Pattern in Subset of User-Item Matrix')\n",
    "plt.xlabel('Movie Index')\n",
    "plt.ylabel('Customer Index')\n",
    "plt.show()\n"
   ]
  },
  {
   "cell_type": "markdown",
   "metadata": {},
   "source": [
    "Checking the Shape, Percentage of blank values and Number of possible and actual interactions of the matrix."
   ]
  },
  {
   "cell_type": "code",
   "execution_count": 21,
   "metadata": {},
   "outputs": [
    {
     "name": "stdout",
     "output_type": "stream",
     "text": [
      "Shape of the Sparse Interaction Matrix: (480189, 17770)\n",
      "Number of possible interactions: 8532958530\n",
      "Number of actual interactions: 100480507\n",
      "Sparsity of the Matrix: 98.82%\n"
     ]
    }
   ],
   "source": [
    "print(f\"Shape of the Sparse Interaction Matrix: {sparse_matrix.shape}\")\n",
    "print(f\"Number of possible interactions: {sparse_matrix.shape[0] * sparse_matrix.shape[1]}\")\n",
    "print(f\"Number of actual interactions: {sparse_matrix.nnz}\")\n",
    "print(f\"Sparsity of the Matrix: {(1 - sparse_matrix.nnz / (sparse_matrix.shape[0] * sparse_matrix.shape[1])) * 100:.2f}%\")"
   ]
  },
  {
   "cell_type": "markdown",
   "metadata": {},
   "source": [
    "### 3.2.2. Creating Movie Similarity Matrix"
   ]
  },
  {
   "cell_type": "markdown",
   "metadata": {},
   "source": [
    "Splitting the data.\n",
    "Calculate Item-Item Similarities\n",
    "Convert to Sparse Matrix: If not already, convert your DataFrame to a sparse matrix format to efficiently compute similarities.\n",
    "Compute Similarities: Use cosine similarity to calculate the item-item similarity matrix. Libraries like scikit-learn provide functions like cosine_similarity that can be used directly on sparse matrices."
   ]
  },
  {
   "cell_type": "code",
   "execution_count": 3,
   "metadata": {},
   "outputs": [
    {
     "name": "stdout",
     "output_type": "stream",
     "text": [
      "Data has been split into train, validate, and test sets and saved as CSV files.\n"
     ]
    }
   ],
   "source": [
    "# Load the CSV file\n",
    "df = pd.read_csv('combined_data.csv', usecols=['MovieID', 'CustomerID', 'Rating'])\n",
    "\n",
    "# Sample 5% of the data\n",
    "sampled_df = df.sample(frac=0.001, random_state=42)\n",
    "\n",
    "# Now, split the sampled data into train, validate, and test sets\n",
    "# Let's use 70% for train, 15% for validation, and 15% for test.\n",
    "train_df, temp_df = train_test_split(sampled_df, test_size=0.3, random_state=42)  # 30% for temp, which is 15% for validation and 15% for test from the total\n",
    "validate_df, test_df = train_test_split(temp_df, test_size=0.5, random_state=42)  # Split the temp evenly into validation and test\n",
    "\n",
    "# Save the split datasets to new CSV files\n",
    "train_df.to_csv('train.csv', index=False)\n",
    "validate_df.to_csv('validate.csv', index=False)\n",
    "test_df.to_csv('test.csv', index=False)\n",
    "\n",
    "print(\"Data has been split into train, validate, and test sets and saved as CSV files.\")\n"
   ]
  },
  {
   "cell_type": "markdown",
   "metadata": {},
   "source": [
    "Creating Rating matrix from the train split "
   ]
  },
  {
   "cell_type": "code",
   "execution_count": 50,
   "metadata": {},
   "outputs": [
    {
     "name": "stdout",
     "output_type": "stream",
     "text": [
      "Matrix saved to movie_customer_rating_matrix.csv.\n"
     ]
    }
   ],
   "source": [
    "\n",
    "# Load the datasets\n",
    "train_df = pd.read_csv('train.csv', usecols=['MovieID', 'CustomerID', 'Rating'])\n",
    "validate_df = pd.read_csv('validate.csv', usecols=['MovieID', 'CustomerID', 'Rating'])\n",
    "test_df = pd.read_csv('test.csv', usecols=['MovieID', 'CustomerID', 'Rating'])\n",
    "\n",
    "# Combine the datasets\n",
    "combined_df = pd.concat([train_df, validate_df, test_df])\n",
    "\n",
    "# Pivot the combined DataFrame to create the matrix\n",
    "# Set MovieID as the index, CustomerID as the columns, and fill with Ratings\n",
    "matrix_df = combined_df.pivot_table(index='MovieID', columns='CustomerID', values='Rating', aggfunc='mean')\n",
    "\n",
    "# Save the matrix to a new CSV file\n",
    "matrix_df.to_csv('movie_customer_rating_matrix.csv')\n",
    "print(\"Matrix saved to movie_customer_rating_matrix.csv.\")"
   ]
  },
  {
   "cell_type": "code",
   "execution_count": 1,
   "metadata": {},
   "outputs": [
    {
     "name": "stdout",
     "output_type": "stream",
     "text": [
      "Matrix saved to movie_customer_rating_matrix.csv.\n"
     ]
    }
   ],
   "source": [
    "\n",
    "# Load the CSV file\n",
    "# Ensure you replace 'path_to_your_file.csv' with the actual path to the CSV file.\n",
    "df = pd.read_csv('train.csv', usecols=['MovieID', 'CustomerID', 'Rating'])\n",
    "\n",
    "# Pivot the DataFrame to create the matrix\n",
    "# Set MovieID as the index, CustomerID as the columns, and fill with Ratings\n",
    "matrix_df = df.pivot_table(index='MovieID', columns='CustomerID', values='Rating')\n",
    "\n",
    "# Save the matrix to a new CSV file\n",
    "matrix_df.to_csv('movie_customer_rating_matrix.csv')\n",
    "\n",
    "print(\"Matrix saved to movie_customer_rating_matrix.csv.\")"
   ]
  },
  {
   "cell_type": "markdown",
   "metadata": {},
   "source": [
    "Checking the values of Rating Matrix"
   ]
  },
  {
   "cell_type": "code",
   "execution_count": 2,
   "metadata": {},
   "outputs": [
    {
     "name": "stdout",
     "output_type": "stream",
     "text": [
      "<class 'pandas.core.frame.DataFrame'>\n",
      "RangeIndex: 2293 entries, 0 to 2292\n",
      "Columns: 22370 entries, MovieID to 2649335\n",
      "dtypes: float64(22369), int64(1)\n",
      "memory usage: 391.3 MB\n"
     ]
    }
   ],
   "source": [
    "df = pd.read_csv('movie_customer_rating_matrix.csv')\n",
    "df.info()"
   ]
  },
  {
   "cell_type": "code",
   "execution_count": 3,
   "metadata": {},
   "outputs": [
    {
     "data": {
      "text/html": [
       "<div>\n",
       "<style scoped>\n",
       "    .dataframe tbody tr th:only-of-type {\n",
       "        vertical-align: middle;\n",
       "    }\n",
       "\n",
       "    .dataframe tbody tr th {\n",
       "        vertical-align: top;\n",
       "    }\n",
       "\n",
       "    .dataframe thead th {\n",
       "        text-align: right;\n",
       "    }\n",
       "</style>\n",
       "<table border=\"1\" class=\"dataframe\">\n",
       "  <thead>\n",
       "    <tr style=\"text-align: right;\">\n",
       "      <th></th>\n",
       "      <th>MovieID</th>\n",
       "      <th>546</th>\n",
       "      <th>735</th>\n",
       "      <th>989</th>\n",
       "      <th>1188</th>\n",
       "      <th>1442</th>\n",
       "      <th>1701</th>\n",
       "      <th>1702</th>\n",
       "      <th>1715</th>\n",
       "      <th>1809</th>\n",
       "      <th>...</th>\n",
       "      <th>2648260</th>\n",
       "      <th>2648582</th>\n",
       "      <th>2648589</th>\n",
       "      <th>2648694</th>\n",
       "      <th>2649033</th>\n",
       "      <th>2649049</th>\n",
       "      <th>2649057</th>\n",
       "      <th>2649059</th>\n",
       "      <th>2649225</th>\n",
       "      <th>2649335</th>\n",
       "    </tr>\n",
       "  </thead>\n",
       "  <tbody>\n",
       "    <tr>\n",
       "      <th>0</th>\n",
       "      <td>1</td>\n",
       "      <td>NaN</td>\n",
       "      <td>NaN</td>\n",
       "      <td>NaN</td>\n",
       "      <td>NaN</td>\n",
       "      <td>NaN</td>\n",
       "      <td>NaN</td>\n",
       "      <td>NaN</td>\n",
       "      <td>NaN</td>\n",
       "      <td>NaN</td>\n",
       "      <td>...</td>\n",
       "      <td>NaN</td>\n",
       "      <td>NaN</td>\n",
       "      <td>NaN</td>\n",
       "      <td>NaN</td>\n",
       "      <td>NaN</td>\n",
       "      <td>NaN</td>\n",
       "      <td>NaN</td>\n",
       "      <td>NaN</td>\n",
       "      <td>NaN</td>\n",
       "      <td>NaN</td>\n",
       "    </tr>\n",
       "    <tr>\n",
       "      <th>1</th>\n",
       "      <td>5</td>\n",
       "      <td>NaN</td>\n",
       "      <td>NaN</td>\n",
       "      <td>NaN</td>\n",
       "      <td>NaN</td>\n",
       "      <td>NaN</td>\n",
       "      <td>NaN</td>\n",
       "      <td>NaN</td>\n",
       "      <td>NaN</td>\n",
       "      <td>NaN</td>\n",
       "      <td>...</td>\n",
       "      <td>NaN</td>\n",
       "      <td>NaN</td>\n",
       "      <td>NaN</td>\n",
       "      <td>NaN</td>\n",
       "      <td>NaN</td>\n",
       "      <td>NaN</td>\n",
       "      <td>NaN</td>\n",
       "      <td>NaN</td>\n",
       "      <td>NaN</td>\n",
       "      <td>NaN</td>\n",
       "    </tr>\n",
       "    <tr>\n",
       "      <th>2</th>\n",
       "      <td>8</td>\n",
       "      <td>NaN</td>\n",
       "      <td>NaN</td>\n",
       "      <td>NaN</td>\n",
       "      <td>NaN</td>\n",
       "      <td>NaN</td>\n",
       "      <td>NaN</td>\n",
       "      <td>NaN</td>\n",
       "      <td>NaN</td>\n",
       "      <td>NaN</td>\n",
       "      <td>...</td>\n",
       "      <td>NaN</td>\n",
       "      <td>NaN</td>\n",
       "      <td>NaN</td>\n",
       "      <td>NaN</td>\n",
       "      <td>NaN</td>\n",
       "      <td>NaN</td>\n",
       "      <td>NaN</td>\n",
       "      <td>NaN</td>\n",
       "      <td>NaN</td>\n",
       "      <td>NaN</td>\n",
       "    </tr>\n",
       "    <tr>\n",
       "      <th>3</th>\n",
       "      <td>11</td>\n",
       "      <td>NaN</td>\n",
       "      <td>NaN</td>\n",
       "      <td>NaN</td>\n",
       "      <td>NaN</td>\n",
       "      <td>NaN</td>\n",
       "      <td>NaN</td>\n",
       "      <td>NaN</td>\n",
       "      <td>NaN</td>\n",
       "      <td>NaN</td>\n",
       "      <td>...</td>\n",
       "      <td>NaN</td>\n",
       "      <td>NaN</td>\n",
       "      <td>NaN</td>\n",
       "      <td>NaN</td>\n",
       "      <td>NaN</td>\n",
       "      <td>NaN</td>\n",
       "      <td>NaN</td>\n",
       "      <td>NaN</td>\n",
       "      <td>NaN</td>\n",
       "      <td>NaN</td>\n",
       "    </tr>\n",
       "    <tr>\n",
       "      <th>4</th>\n",
       "      <td>16</td>\n",
       "      <td>NaN</td>\n",
       "      <td>NaN</td>\n",
       "      <td>NaN</td>\n",
       "      <td>NaN</td>\n",
       "      <td>NaN</td>\n",
       "      <td>NaN</td>\n",
       "      <td>NaN</td>\n",
       "      <td>NaN</td>\n",
       "      <td>NaN</td>\n",
       "      <td>...</td>\n",
       "      <td>NaN</td>\n",
       "      <td>NaN</td>\n",
       "      <td>NaN</td>\n",
       "      <td>NaN</td>\n",
       "      <td>NaN</td>\n",
       "      <td>NaN</td>\n",
       "      <td>NaN</td>\n",
       "      <td>NaN</td>\n",
       "      <td>NaN</td>\n",
       "      <td>NaN</td>\n",
       "    </tr>\n",
       "  </tbody>\n",
       "</table>\n",
       "<p>5 rows × 22370 columns</p>\n",
       "</div>"
      ],
      "text/plain": [
       "   MovieID  546  735  989  1188  1442  1701  1702  1715  1809  ...  2648260  \\\n",
       "0        1  NaN  NaN  NaN   NaN   NaN   NaN   NaN   NaN   NaN  ...      NaN   \n",
       "1        5  NaN  NaN  NaN   NaN   NaN   NaN   NaN   NaN   NaN  ...      NaN   \n",
       "2        8  NaN  NaN  NaN   NaN   NaN   NaN   NaN   NaN   NaN  ...      NaN   \n",
       "3       11  NaN  NaN  NaN   NaN   NaN   NaN   NaN   NaN   NaN  ...      NaN   \n",
       "4       16  NaN  NaN  NaN   NaN   NaN   NaN   NaN   NaN   NaN  ...      NaN   \n",
       "\n",
       "   2648582  2648589  2648694  2649033  2649049  2649057  2649059  2649225  \\\n",
       "0      NaN      NaN      NaN      NaN      NaN      NaN      NaN      NaN   \n",
       "1      NaN      NaN      NaN      NaN      NaN      NaN      NaN      NaN   \n",
       "2      NaN      NaN      NaN      NaN      NaN      NaN      NaN      NaN   \n",
       "3      NaN      NaN      NaN      NaN      NaN      NaN      NaN      NaN   \n",
       "4      NaN      NaN      NaN      NaN      NaN      NaN      NaN      NaN   \n",
       "\n",
       "   2649335  \n",
       "0      NaN  \n",
       "1      NaN  \n",
       "2      NaN  \n",
       "3      NaN  \n",
       "4      NaN  \n",
       "\n",
       "[5 rows x 22370 columns]"
      ]
     },
     "execution_count": 3,
     "metadata": {},
     "output_type": "execute_result"
    }
   ],
   "source": [
    "df.head()"
   ]
  },
  {
   "cell_type": "markdown",
   "metadata": {},
   "source": [
    "Creating Cosine Similarity Matrix"
   ]
  },
  {
   "cell_type": "code",
   "execution_count": 4,
   "metadata": {},
   "outputs": [
    {
     "name": "stdout",
     "output_type": "stream",
     "text": [
      "Cosine similarity matrix saved to movie_cosine_similarity_matrix.csv.\n"
     ]
    }
   ],
   "source": [
    "# Load the CSV file\n",
    "# Ensure you replace 'path_to_your_file.csv' with the actual path to the CSV file.\n",
    "df = pd.read_csv('movie_customer_rating_matrix.csv', index_col='MovieID')\n",
    "\n",
    "# Fill missing values with 0s\n",
    "df.fillna(0, inplace=True)\n",
    "\n",
    "# Compute the cosine similarity matrix\n",
    "cosine_sim_matrix = cosine_similarity(df)\n",
    "\n",
    "# Convert the cosine similarity matrix into a DataFrame\n",
    "cosine_sim_df = pd.DataFrame(cosine_sim_matrix, index=df.index, columns=df.index)\n",
    "\n",
    "# Save the cosine similarity matrix to a new CSV file\n",
    "cosine_sim_df.to_csv('movie_cosine_similarity_matrix.csv')\n",
    "\n",
    "print(\"Cosine similarity matrix saved to movie_cosine_similarity_matrix.csv.\")\n"
   ]
  },
  {
   "cell_type": "markdown",
   "metadata": {},
   "source": [
    "Viewing Movie-Movie Cosine Similarity Matrix"
   ]
  },
  {
   "cell_type": "code",
   "execution_count": 5,
   "metadata": {},
   "outputs": [
    {
     "data": {
      "text/html": [
       "<div>\n",
       "<style scoped>\n",
       "    .dataframe tbody tr th:only-of-type {\n",
       "        vertical-align: middle;\n",
       "    }\n",
       "\n",
       "    .dataframe tbody tr th {\n",
       "        vertical-align: top;\n",
       "    }\n",
       "\n",
       "    .dataframe thead th {\n",
       "        text-align: right;\n",
       "    }\n",
       "</style>\n",
       "<table border=\"1\" class=\"dataframe\">\n",
       "  <thead>\n",
       "    <tr style=\"text-align: right;\">\n",
       "      <th></th>\n",
       "      <th>MovieID</th>\n",
       "      <th>1</th>\n",
       "      <th>5</th>\n",
       "      <th>8</th>\n",
       "      <th>11</th>\n",
       "      <th>16</th>\n",
       "      <th>17</th>\n",
       "      <th>18</th>\n",
       "      <th>22</th>\n",
       "      <th>25</th>\n",
       "      <th>...</th>\n",
       "      <th>4486</th>\n",
       "      <th>4488</th>\n",
       "      <th>4489</th>\n",
       "      <th>4490</th>\n",
       "      <th>4491</th>\n",
       "      <th>4492</th>\n",
       "      <th>4493</th>\n",
       "      <th>4495</th>\n",
       "      <th>4496</th>\n",
       "      <th>4497</th>\n",
       "    </tr>\n",
       "  </thead>\n",
       "  <tbody>\n",
       "    <tr>\n",
       "      <th>0</th>\n",
       "      <td>1</td>\n",
       "      <td>1.0</td>\n",
       "      <td>0.0</td>\n",
       "      <td>0.0</td>\n",
       "      <td>0.0</td>\n",
       "      <td>0.0</td>\n",
       "      <td>0.0</td>\n",
       "      <td>0.0</td>\n",
       "      <td>0.0</td>\n",
       "      <td>0.0</td>\n",
       "      <td>...</td>\n",
       "      <td>0.0</td>\n",
       "      <td>0.0</td>\n",
       "      <td>0.0</td>\n",
       "      <td>0.0</td>\n",
       "      <td>0.0</td>\n",
       "      <td>0.0</td>\n",
       "      <td>0.0</td>\n",
       "      <td>0.0</td>\n",
       "      <td>0.0</td>\n",
       "      <td>0.0</td>\n",
       "    </tr>\n",
       "    <tr>\n",
       "      <th>1</th>\n",
       "      <td>5</td>\n",
       "      <td>0.0</td>\n",
       "      <td>1.0</td>\n",
       "      <td>0.0</td>\n",
       "      <td>0.0</td>\n",
       "      <td>0.0</td>\n",
       "      <td>0.0</td>\n",
       "      <td>0.0</td>\n",
       "      <td>0.0</td>\n",
       "      <td>0.0</td>\n",
       "      <td>...</td>\n",
       "      <td>0.0</td>\n",
       "      <td>0.0</td>\n",
       "      <td>0.0</td>\n",
       "      <td>0.0</td>\n",
       "      <td>0.0</td>\n",
       "      <td>0.0</td>\n",
       "      <td>0.0</td>\n",
       "      <td>0.0</td>\n",
       "      <td>0.0</td>\n",
       "      <td>0.0</td>\n",
       "    </tr>\n",
       "    <tr>\n",
       "      <th>2</th>\n",
       "      <td>8</td>\n",
       "      <td>0.0</td>\n",
       "      <td>0.0</td>\n",
       "      <td>1.0</td>\n",
       "      <td>0.0</td>\n",
       "      <td>0.0</td>\n",
       "      <td>0.0</td>\n",
       "      <td>0.0</td>\n",
       "      <td>0.0</td>\n",
       "      <td>0.0</td>\n",
       "      <td>...</td>\n",
       "      <td>0.0</td>\n",
       "      <td>0.0</td>\n",
       "      <td>0.0</td>\n",
       "      <td>0.0</td>\n",
       "      <td>0.0</td>\n",
       "      <td>0.0</td>\n",
       "      <td>0.0</td>\n",
       "      <td>0.0</td>\n",
       "      <td>0.0</td>\n",
       "      <td>0.0</td>\n",
       "    </tr>\n",
       "    <tr>\n",
       "      <th>3</th>\n",
       "      <td>11</td>\n",
       "      <td>0.0</td>\n",
       "      <td>0.0</td>\n",
       "      <td>0.0</td>\n",
       "      <td>1.0</td>\n",
       "      <td>0.0</td>\n",
       "      <td>0.0</td>\n",
       "      <td>0.0</td>\n",
       "      <td>0.0</td>\n",
       "      <td>0.0</td>\n",
       "      <td>...</td>\n",
       "      <td>0.0</td>\n",
       "      <td>0.0</td>\n",
       "      <td>0.0</td>\n",
       "      <td>0.0</td>\n",
       "      <td>0.0</td>\n",
       "      <td>0.0</td>\n",
       "      <td>0.0</td>\n",
       "      <td>0.0</td>\n",
       "      <td>0.0</td>\n",
       "      <td>0.0</td>\n",
       "    </tr>\n",
       "    <tr>\n",
       "      <th>4</th>\n",
       "      <td>16</td>\n",
       "      <td>0.0</td>\n",
       "      <td>0.0</td>\n",
       "      <td>0.0</td>\n",
       "      <td>0.0</td>\n",
       "      <td>1.0</td>\n",
       "      <td>0.0</td>\n",
       "      <td>0.0</td>\n",
       "      <td>0.0</td>\n",
       "      <td>0.0</td>\n",
       "      <td>...</td>\n",
       "      <td>0.0</td>\n",
       "      <td>0.0</td>\n",
       "      <td>0.0</td>\n",
       "      <td>0.0</td>\n",
       "      <td>0.0</td>\n",
       "      <td>0.0</td>\n",
       "      <td>0.0</td>\n",
       "      <td>0.0</td>\n",
       "      <td>0.0</td>\n",
       "      <td>0.0</td>\n",
       "    </tr>\n",
       "  </tbody>\n",
       "</table>\n",
       "<p>5 rows × 2294 columns</p>\n",
       "</div>"
      ],
      "text/plain": [
       "   MovieID    1    5    8   11   16   17   18   22   25  ...  4486  4488  \\\n",
       "0        1  1.0  0.0  0.0  0.0  0.0  0.0  0.0  0.0  0.0  ...   0.0   0.0   \n",
       "1        5  0.0  1.0  0.0  0.0  0.0  0.0  0.0  0.0  0.0  ...   0.0   0.0   \n",
       "2        8  0.0  0.0  1.0  0.0  0.0  0.0  0.0  0.0  0.0  ...   0.0   0.0   \n",
       "3       11  0.0  0.0  0.0  1.0  0.0  0.0  0.0  0.0  0.0  ...   0.0   0.0   \n",
       "4       16  0.0  0.0  0.0  0.0  1.0  0.0  0.0  0.0  0.0  ...   0.0   0.0   \n",
       "\n",
       "   4489  4490  4491  4492  4493  4495  4496  4497  \n",
       "0   0.0   0.0   0.0   0.0   0.0   0.0   0.0   0.0  \n",
       "1   0.0   0.0   0.0   0.0   0.0   0.0   0.0   0.0  \n",
       "2   0.0   0.0   0.0   0.0   0.0   0.0   0.0   0.0  \n",
       "3   0.0   0.0   0.0   0.0   0.0   0.0   0.0   0.0  \n",
       "4   0.0   0.0   0.0   0.0   0.0   0.0   0.0   0.0  \n",
       "\n",
       "[5 rows x 2294 columns]"
      ]
     },
     "execution_count": 5,
     "metadata": {},
     "output_type": "execute_result"
    }
   ],
   "source": [
    "df_cosine_similarity = pd.read_csv('movie_cosine_similarity_matrix.csv')\n",
    "df_cosine_similarity.head()"
   ]
  },
  {
   "cell_type": "markdown",
   "metadata": {},
   "source": [
    "Parameter about Movie-Movie Cosine Similarity Matrix"
   ]
  },
  {
   "cell_type": "code",
   "execution_count": 6,
   "metadata": {},
   "outputs": [
    {
     "name": "stdout",
     "output_type": "stream",
     "text": [
      "<class 'pandas.core.frame.DataFrame'>\n",
      "RangeIndex: 2293 entries, 0 to 2292\n",
      "Columns: 2294 entries, MovieID to 4497\n",
      "dtypes: float64(2293), int64(1)\n",
      "memory usage: 40.1 MB\n"
     ]
    }
   ],
   "source": [
    "df_cosine_similarity.info()"
   ]
  },
  {
   "cell_type": "markdown",
   "metadata": {},
   "source": [
    "Creating Movie-Movie Manhattan Distance Matrix"
   ]
  },
  {
   "cell_type": "code",
   "execution_count": 7,
   "metadata": {},
   "outputs": [
    {
     "name": "stdout",
     "output_type": "stream",
     "text": [
      "Manhattan distance matrix saved to movie_manhattan_distance_matrix.csv.\n"
     ]
    }
   ],
   "source": [
    "\n",
    "# Load the CSV file\n",
    "# Ensure you replace 'path_to_your_file.csv' with the actual path to the CSV file.\n",
    "df = pd.read_csv('movie_customer_rating_matrix.csv', index_col='MovieID')\n",
    "\n",
    "# Fill missing values with 0s, as Manhattan distance requires numerical values\n",
    "df.fillna(0, inplace=True)\n",
    "\n",
    "# Calculate the pairwise Manhattan distances between the MovieIDs\n",
    "manhattan_distances = pdist(df.values, metric='cityblock')\n",
    "\n",
    "# Convert the condensed distance matrix to a square matrix\n",
    "manhattan_distance_matrix = squareform(manhattan_distances)\n",
    "\n",
    "# Convert the distance matrix into a DataFrame\n",
    "manhattan_df = pd.DataFrame(manhattan_distance_matrix, index=df.index, columns=df.index)\n",
    "\n",
    "# Save the Manhattan distance matrix to a new CSV file\n",
    "manhattan_df.to_csv('movie_manhattan_distance_matrix.csv')\n",
    "\n",
    "print(\"Manhattan distance matrix saved to movie_manhattan_distance_matrix.csv.\")\n"
   ]
  },
  {
   "cell_type": "markdown",
   "metadata": {},
   "source": [
    "Viewing Movie-Movie Manhattan Distance Matrix"
   ]
  },
  {
   "cell_type": "code",
   "execution_count": 8,
   "metadata": {},
   "outputs": [
    {
     "data": {
      "text/html": [
       "<div>\n",
       "<style scoped>\n",
       "    .dataframe tbody tr th:only-of-type {\n",
       "        vertical-align: middle;\n",
       "    }\n",
       "\n",
       "    .dataframe tbody tr th {\n",
       "        vertical-align: top;\n",
       "    }\n",
       "\n",
       "    .dataframe thead th {\n",
       "        text-align: right;\n",
       "    }\n",
       "</style>\n",
       "<table border=\"1\" class=\"dataframe\">\n",
       "  <thead>\n",
       "    <tr style=\"text-align: right;\">\n",
       "      <th></th>\n",
       "      <th>MovieID</th>\n",
       "      <th>1</th>\n",
       "      <th>5</th>\n",
       "      <th>8</th>\n",
       "      <th>11</th>\n",
       "      <th>16</th>\n",
       "      <th>17</th>\n",
       "      <th>18</th>\n",
       "      <th>22</th>\n",
       "      <th>25</th>\n",
       "      <th>...</th>\n",
       "      <th>4486</th>\n",
       "      <th>4488</th>\n",
       "      <th>4489</th>\n",
       "      <th>4490</th>\n",
       "      <th>4491</th>\n",
       "      <th>4492</th>\n",
       "      <th>4493</th>\n",
       "      <th>4495</th>\n",
       "      <th>4496</th>\n",
       "      <th>4497</th>\n",
       "    </tr>\n",
       "  </thead>\n",
       "  <tbody>\n",
       "    <tr>\n",
       "      <th>0</th>\n",
       "      <td>1</td>\n",
       "      <td>0.0</td>\n",
       "      <td>9.0</td>\n",
       "      <td>34.0</td>\n",
       "      <td>4.0</td>\n",
       "      <td>16.0</td>\n",
       "      <td>12.0</td>\n",
       "      <td>28.0</td>\n",
       "      <td>4.0</td>\n",
       "      <td>4.0</td>\n",
       "      <td>...</td>\n",
       "      <td>3.0</td>\n",
       "      <td>147.0</td>\n",
       "      <td>7.0</td>\n",
       "      <td>21.0</td>\n",
       "      <td>5.0</td>\n",
       "      <td>35.0</td>\n",
       "      <td>26.0</td>\n",
       "      <td>6.0</td>\n",
       "      <td>35.0</td>\n",
       "      <td>5.0</td>\n",
       "    </tr>\n",
       "    <tr>\n",
       "      <th>1</th>\n",
       "      <td>5</td>\n",
       "      <td>9.0</td>\n",
       "      <td>0.0</td>\n",
       "      <td>39.0</td>\n",
       "      <td>9.0</td>\n",
       "      <td>21.0</td>\n",
       "      <td>17.0</td>\n",
       "      <td>33.0</td>\n",
       "      <td>9.0</td>\n",
       "      <td>9.0</td>\n",
       "      <td>...</td>\n",
       "      <td>8.0</td>\n",
       "      <td>152.0</td>\n",
       "      <td>12.0</td>\n",
       "      <td>26.0</td>\n",
       "      <td>10.0</td>\n",
       "      <td>40.0</td>\n",
       "      <td>31.0</td>\n",
       "      <td>11.0</td>\n",
       "      <td>40.0</td>\n",
       "      <td>10.0</td>\n",
       "    </tr>\n",
       "    <tr>\n",
       "      <th>2</th>\n",
       "      <td>8</td>\n",
       "      <td>34.0</td>\n",
       "      <td>39.0</td>\n",
       "      <td>0.0</td>\n",
       "      <td>34.0</td>\n",
       "      <td>46.0</td>\n",
       "      <td>42.0</td>\n",
       "      <td>58.0</td>\n",
       "      <td>34.0</td>\n",
       "      <td>34.0</td>\n",
       "      <td>...</td>\n",
       "      <td>33.0</td>\n",
       "      <td>177.0</td>\n",
       "      <td>37.0</td>\n",
       "      <td>51.0</td>\n",
       "      <td>35.0</td>\n",
       "      <td>65.0</td>\n",
       "      <td>56.0</td>\n",
       "      <td>36.0</td>\n",
       "      <td>65.0</td>\n",
       "      <td>35.0</td>\n",
       "    </tr>\n",
       "    <tr>\n",
       "      <th>3</th>\n",
       "      <td>11</td>\n",
       "      <td>4.0</td>\n",
       "      <td>9.0</td>\n",
       "      <td>34.0</td>\n",
       "      <td>0.0</td>\n",
       "      <td>16.0</td>\n",
       "      <td>12.0</td>\n",
       "      <td>28.0</td>\n",
       "      <td>4.0</td>\n",
       "      <td>4.0</td>\n",
       "      <td>...</td>\n",
       "      <td>3.0</td>\n",
       "      <td>147.0</td>\n",
       "      <td>7.0</td>\n",
       "      <td>21.0</td>\n",
       "      <td>5.0</td>\n",
       "      <td>35.0</td>\n",
       "      <td>26.0</td>\n",
       "      <td>6.0</td>\n",
       "      <td>35.0</td>\n",
       "      <td>5.0</td>\n",
       "    </tr>\n",
       "    <tr>\n",
       "      <th>4</th>\n",
       "      <td>16</td>\n",
       "      <td>16.0</td>\n",
       "      <td>21.0</td>\n",
       "      <td>46.0</td>\n",
       "      <td>16.0</td>\n",
       "      <td>0.0</td>\n",
       "      <td>24.0</td>\n",
       "      <td>40.0</td>\n",
       "      <td>16.0</td>\n",
       "      <td>16.0</td>\n",
       "      <td>...</td>\n",
       "      <td>15.0</td>\n",
       "      <td>159.0</td>\n",
       "      <td>19.0</td>\n",
       "      <td>33.0</td>\n",
       "      <td>17.0</td>\n",
       "      <td>47.0</td>\n",
       "      <td>38.0</td>\n",
       "      <td>18.0</td>\n",
       "      <td>47.0</td>\n",
       "      <td>17.0</td>\n",
       "    </tr>\n",
       "  </tbody>\n",
       "</table>\n",
       "<p>5 rows × 2294 columns</p>\n",
       "</div>"
      ],
      "text/plain": [
       "   MovieID     1     5     8    11    16    17    18    22    25  ...  4486  \\\n",
       "0        1   0.0   9.0  34.0   4.0  16.0  12.0  28.0   4.0   4.0  ...   3.0   \n",
       "1        5   9.0   0.0  39.0   9.0  21.0  17.0  33.0   9.0   9.0  ...   8.0   \n",
       "2        8  34.0  39.0   0.0  34.0  46.0  42.0  58.0  34.0  34.0  ...  33.0   \n",
       "3       11   4.0   9.0  34.0   0.0  16.0  12.0  28.0   4.0   4.0  ...   3.0   \n",
       "4       16  16.0  21.0  46.0  16.0   0.0  24.0  40.0  16.0  16.0  ...  15.0   \n",
       "\n",
       "    4488  4489  4490  4491  4492  4493  4495  4496  4497  \n",
       "0  147.0   7.0  21.0   5.0  35.0  26.0   6.0  35.0   5.0  \n",
       "1  152.0  12.0  26.0  10.0  40.0  31.0  11.0  40.0  10.0  \n",
       "2  177.0  37.0  51.0  35.0  65.0  56.0  36.0  65.0  35.0  \n",
       "3  147.0   7.0  21.0   5.0  35.0  26.0   6.0  35.0   5.0  \n",
       "4  159.0  19.0  33.0  17.0  47.0  38.0  18.0  47.0  17.0  \n",
       "\n",
       "[5 rows x 2294 columns]"
      ]
     },
     "execution_count": 8,
     "metadata": {},
     "output_type": "execute_result"
    }
   ],
   "source": [
    "df_manhattan = pd.read_csv('movie_manhattan_distance_matrix.csv')\n",
    "df_manhattan.head()"
   ]
  },
  {
   "cell_type": "markdown",
   "metadata": {},
   "source": [
    "Parameter about Movie-Movie Manhattan Distnace Matrix"
   ]
  },
  {
   "cell_type": "code",
   "execution_count": 9,
   "metadata": {},
   "outputs": [
    {
     "name": "stdout",
     "output_type": "stream",
     "text": [
      "<class 'pandas.core.frame.DataFrame'>\n",
      "RangeIndex: 2293 entries, 0 to 2292\n",
      "Columns: 2294 entries, MovieID to 4497\n",
      "dtypes: float64(2293), int64(1)\n",
      "memory usage: 40.1 MB\n"
     ]
    }
   ],
   "source": [
    "df_manhattan.info()"
   ]
  },
  {
   "cell_type": "markdown",
   "metadata": {},
   "source": [
    "Transforming Validate and Test Datasets"
   ]
  },
  {
   "cell_type": "code",
   "execution_count": 5,
   "metadata": {},
   "outputs": [
    {
     "name": "stdout",
     "output_type": "stream",
     "text": [
      "Transformed dataset saved to transformed_validate.csv\n",
      "Transformed dataset saved to transformed_test.csv\n"
     ]
    }
   ],
   "source": [
    "# Function to transform the dataset\n",
    "def transform_dataset(input_csv_path, output_csv_path):\n",
    "    # Load the dataset\n",
    "    df = pd.read_csv(input_csv_path)\n",
    "    \n",
    "    # Pivot the DataFrame to get the desired format\n",
    "    transformed_df = df.pivot_table(index='MovieID', columns='CustomerID', values='Rating', fill_value=0)\n",
    "    \n",
    "    # Reset index to bring MovieID back as a column\n",
    "    transformed_df.reset_index(inplace=True)\n",
    "    \n",
    "    # Save the transformed DataFrame to a new CSV file\n",
    "    transformed_df.to_csv(output_csv_path, index=False)\n",
    "    print(f\"Transformed dataset saved to {output_csv_path}\")\n",
    "\n",
    "# Paths to the input files\n",
    "validate_csv_path = 'validate.csv'\n",
    "test_csv_path = 'test.csv'\n",
    "\n",
    "# Paths to the output files\n",
    "validate_output_path = 'transformed_validate.csv'\n",
    "test_output_path = 'transformed_test.csv'\n",
    "\n",
    "# Transform validate.csv and test.csv\n",
    "transform_dataset(validate_csv_path, validate_output_path)\n",
    "transform_dataset(test_csv_path, test_output_path)\n"
   ]
  },
  {
   "cell_type": "markdown",
   "metadata": {},
   "source": [
    "### 3.2.3. Prediction"
   ]
  },
  {
   "cell_type": "markdown",
   "metadata": {},
   "source": [
    "A) Cosine Similarity"
   ]
  },
  {
   "cell_type": "code",
   "execution_count": 4,
   "metadata": {},
   "outputs": [
    {
     "name": "stdout",
     "output_type": "stream",
     "text": [
      "RMSE: 1.5878814569631832\n",
      "MSE: 2.5213675213675213\n"
     ]
    }
   ],
   "source": [
    "# Load the cosine similarity matrix for movies\n",
    "cosine_similarity_df = pd.read_csv('movie_cosine_similarity_matrix.csv', index_col='MovieID')\n",
    "\n",
    "# Load the validation data\n",
    "validate_df = pd.read_csv('validate.csv')\n",
    "\n",
    "# Load the movie-customer rating matrix\n",
    "rating_matrix_df = pd.read_csv('movie_customer_rating_matrix.csv').set_index('MovieID')\n",
    "\n",
    "# Predict the rating using the cosine similarity matrix\n",
    "def predict_rating(movie_id, customer_id, k, similarity_df, rating_matrix):\n",
    "    # Check if the movie_id exists in the similarity matrix\n",
    "    if movie_id not in similarity_df.index:\n",
    "        # If the movie_id does not exist, skip the prediction\n",
    "        return np.nan\n",
    "    \n",
    "    # Check if the customer_id exists in the rating matrix\n",
    "    if customer_id not in rating_matrix.columns:\n",
    "        # If the customer_id does not exist, use the average customer rating as prediction\n",
    "        return rating_matrix.mean(axis=0).get(customer_id, np.nan)\n",
    "    \n",
    "    # Retrieve the k most similar movies, excluding the movie itself\n",
    "    most_similar_movies = similarity_df.loc[movie_id].nlargest(k+1)[1:]\n",
    "    \n",
    "    # Get the ratings that this customer has given to the most similar movies\n",
    "    customer_ratings = rating_matrix.loc[most_similar_movies.index, customer_id]\n",
    "    \n",
    "    # Calculate the predicted rating as a weighted average of the ratings of the most similar movies\n",
    "    if not customer_ratings.empty:\n",
    "        weighted_sum = np.dot(customer_ratings.fillna(0), most_similar_movies)\n",
    "        norm = most_similar_movies.loc[customer_ratings.index].sum()\n",
    "        return weighted_sum / norm if norm != 0 else np.nan\n",
    "    else:\n",
    "        # No similar movies have been rated by the customer\n",
    "        # Use the average rating of all rated movies by this customer\n",
    "        return rating_matrix.mean(axis=0).get(customer_id, np.nan)\n",
    "\n",
    "# Define k for the top k most similar movies to consider for the prediction\n",
    "k = 30\n",
    "\n",
    "# Apply the predict_rating function to each row in the validation DataFrame\n",
    "validate_df['PredictedRating'] = validate_df.apply(\n",
    "    lambda x: predict_rating(x['MovieID'], x['CustomerID'], k, cosine_similarity_df, rating_matrix_df),\n",
    "    axis=1\n",
    ")\n",
    "\n",
    "# Calculate the RMSE and MSE, ignoring NaN values in predictions\n",
    "validate_df.dropna(subset=['PredictedRating'], inplace=True)  # Remove rows with NaN predictions\n",
    "mse = mean_squared_error(validate_df['Rating'], validate_df['PredictedRating'])\n",
    "rmse = np.sqrt(mse)\n",
    "\n",
    "print(f\"RMSE: {rmse}\")\n",
    "print(f\"MSE: {mse}\")\n"
   ]
  },
  {
   "cell_type": "markdown",
   "metadata": {},
   "source": [
    "B) Manhattan Distance"
   ]
  },
  {
   "cell_type": "code",
   "execution_count": 11,
   "metadata": {},
   "outputs": [
    {
     "name": "stdout",
     "output_type": "stream",
     "text": [
      "RMSE: 1.0686170483490132\n",
      "MSE: 1.141942396022157\n"
     ]
    }
   ],
   "source": [
    "# Load the cosine similarity matrix for movies\n",
    "movie_similarity_df = pd.read_csv('movie_manhattan_distance_matrix.csv', index_col='MovieID')\n",
    "\n",
    "# Load the validation data\n",
    "validate_df = pd.read_csv('validate.csv')\n",
    "\n",
    "# Load the movie-customer rating matrix\n",
    "rating_matrix_df = pd.read_csv('movie_customer_rating_matrix.csv').set_index('MovieID')\n",
    "\n",
    "# Predict the rating using the cosine similarity matrix\n",
    "def predict_rating(movie_id, customer_id, k, similarity_df, rating_matrix):\n",
    "    # If the movie_id or customer_id is not found, use a default score\n",
    "    # Here we'll use the average rating of all movies or the average rating given by the customer\n",
    "    if movie_id not in similarity_df.index or customer_id not in rating_matrix.columns:\n",
    "        if movie_id not in similarity_df.index and customer_id in rating_matrix.columns:\n",
    "            # Customer exists, movie does not. Use the customer's average rating.\n",
    "            return rating_matrix.loc[:, customer_id].mean()\n",
    "        elif customer_id not in rating_matrix.columns and movie_id in similarity_df.index:\n",
    "            # Movie exists, customer does not. Use the movie's average rating.\n",
    "            return rating_matrix.loc[movie_id, :].mean()\n",
    "        else:\n",
    "            # Neither movie nor customer exists. Use the global average.\n",
    "            return rating_matrix.stack().mean()\n",
    "    \n",
    "    # Retrieve the k most similar movies, excluding the movie itself\n",
    "    similar_movies = similarity_df.loc[movie_id].sort_values(ascending=False)[1:k+1]\n",
    "    \n",
    "    # Get the ratings that this customer has given to the similar movies\n",
    "    customer_ratings = rating_matrix.loc[similar_movies.index, customer_id]\n",
    "    \n",
    "    # Handle cases where similar movies might not have been rated by the customer\n",
    "    customer_ratings = customer_ratings.fillna(0)\n",
    "    similar_movies = similar_movies * (customer_ratings > 0).astype(int)\n",
    "    \n",
    "    # Calculate the predicted rating as a weighted average\n",
    "    if similar_movies.sum() > 0:\n",
    "        weighted_ratings = customer_ratings * similar_movies\n",
    "        return weighted_ratings.sum() / similar_movies.sum()\n",
    "    else:\n",
    "        # No similar movies have been rated by the customer\n",
    "        # Use the average rating of all rated movies by this customer\n",
    "        return rating_matrix.loc[:, customer_id].mean() if customer_id in rating_matrix.columns else rating_matrix.stack().mean()\n",
    "\n",
    "# Define k for the top k most similar movies to consider for the prediction\n",
    "k = 30\n",
    "\n",
    "# Apply the predict_rating function to each row in the validation DataFrame\n",
    "validate_df['PredictedRating'] = validate_df.apply(\n",
    "    lambda x: predict_rating(x['MovieID'], x['CustomerID'], k, movie_similarity_df, rating_matrix_df),\n",
    "    axis=1\n",
    ")\n",
    "\n",
    "# Calculate the RMSE and MSE, ignoring NaN values in predictions\n",
    "validate_df.dropna(subset=['PredictedRating'], inplace=True)  # Remove rows with NaN predictions\n",
    "mse = mean_squared_error(validate_df['Rating'], validate_df['PredictedRating'])\n",
    "rmse = np.sqrt(mse)\n",
    "\n",
    "print(f\"RMSE: {rmse}\")\n",
    "print(f\"MSE: {mse}\")\n",
    "\n"
   ]
  },
  {
   "cell_type": "markdown",
   "metadata": {},
   "source": [
    "C) Hyperparameter Tuning"
   ]
  },
  {
   "cell_type": "markdown",
   "metadata": {},
   "source": [
    "Using Cosine Similarity Matrix"
   ]
  },
  {
   "cell_type": "code",
   "execution_count": 55,
   "metadata": {},
   "outputs": [],
   "source": [
    "def load_and_prepare_matrices(cosine_similarity_file, rating_matrix_file):\n",
    "    # Load and prepare the cosine similarity matrix\n",
    "    cosine_similarity_df = pd.read_csv(cosine_similarity_file, index_col=0)\n",
    "    cosine_similarity_df.columns = cosine_similarity_df.columns.astype(int)  # Ensure MovieIDs as columns are integers\n",
    "    \n",
    "    # Load and prepare the movie-customer rating matrix\n",
    "    rating_matrix_df = pd.read_csv(rating_matrix_file, index_col=0)\n",
    "    rating_matrix_df.columns = rating_matrix_df.columns.astype(int)  # Ensure CustomerIDs as columns are integers\n",
    "    \n",
    "    return cosine_similarity_df, rating_matrix_df\n",
    "\n",
    "def predict_rating_item_cosine(movie_id, customer_id, k, movie_similarity_df, item_customer_matrix):\n",
    "    if movie_id not in movie_similarity_df.index or customer_id not in item_customer_matrix.columns:\n",
    "        return np.nan  # Cannot predict if either movie or customer is not found\n",
    "\n",
    "    # Retrieve the k most similar movies to the given movie_id\n",
    "    top_k_similarities = movie_similarity_df.loc[movie_id].nlargest(k+1)[1:]  # Exclude self similarity\n",
    "    \n",
    "    # Filter to get only those top k movies that the customer has rated\n",
    "    rated_by_customer = item_customer_matrix.loc[top_k_similarities.index, customer_id].dropna()\n",
    "    \n",
    "    # Retrieve corresponding similarities\n",
    "    similarities = top_k_similarities.loc[rated_by_customer.index]\n",
    "    \n",
    "    if similarities.empty:\n",
    "        return np.nan  # Cannot predict if there are no similar movies rated by the customer\n",
    "    \n",
    "    # Compute the weighted average rating\n",
    "    weighted_sum = np.dot(rated_by_customer, similarities)\n",
    "    prediction = weighted_sum / similarities.sum()\n",
    "\n",
    "    return prediction\n",
    "\n",
    "\n",
    "\n"
   ]
  },
  {
   "cell_type": "code",
   "execution_count": 6,
   "metadata": {},
   "outputs": [
    {
     "name": "stdout",
     "output_type": "stream",
     "text": [
      "k=40, RMSE=1.5878, MSE=2.5213\n",
      "k=50, RMSE=1.6365, MSE=2.6215\n",
      "k=60, RMSE=1.7345, MSE=2.6937\n"
     ]
    }
   ],
   "source": [
    "def evaluate_predictions(k_values, transformed_validate_file, cosine_similarity_df, rating_matrix_df):\n",
    "    results = []\n",
    "\n",
    "    transformed_validate_df = pd.read_csv(transformed_validate_file, index_col=0)\n",
    "    transformed_validate_df.columns = transformed_validate_df.columns.astype(int)  # Ensure CustomerIDs as columns are integers\n",
    "\n",
    "    for k in k_values:\n",
    "        actual = []\n",
    "        predicted = []\n",
    "\n",
    "        for movie_id in transformed_validate_df.index:\n",
    "            for customer_id in transformed_validate_df.columns:\n",
    "                actual_rating = transformed_validate_df.at[movie_id, customer_id]\n",
    "                if pd.notna(actual_rating):\n",
    "                    pred_rating = predict_rating_item_cosine(movie_id, customer_id, k, cosine_similarity_df, rating_matrix_df)\n",
    "                    if pd.notna(pred_rating):\n",
    "                        actual.append(actual_rating)\n",
    "                        predicted.append(pred_rating)\n",
    "        \n",
    "        mse = mean_squared_error(actual, predicted)\n",
    "        rmse = sqrt(mse)\n",
    "\n",
    "        results.append({'k': k, 'RMSE': rmse, 'MSE': mse})\n",
    "\n",
    "    return results\n",
    "\n",
    "# Example usage:\n",
    "# Ensure to load the matrices correctly using load_and_prepare_matrices function\n",
    "cosine_similarity_df, rating_matrix_df = load_and_prepare_matrices('movie_cosine_similarity_matrix.csv', 'movie_customer_rating_matrix.csv')\n",
    "k_values = [40, 50, 60]\n",
    "evaluation_results = evaluate_predictions(k_values, 'transformed_validate.csv', cosine_similarity_df, rating_matrix_df)\n",
    "\n",
    "for result in evaluation_results:\n",
    "    print(f\"k={result['k']}, RMSE={result['RMSE']:.4f}, MSE={result['MSE']:.4f}\")\n"
   ]
  },
  {
   "cell_type": "markdown",
   "metadata": {},
   "source": [
    "Using Manhattan Distance Matrix"
   ]
  },
  {
   "cell_type": "code",
   "execution_count": 1,
   "metadata": {},
   "outputs": [],
   "source": [
    "def load_and_prepare_matrices(manhattan_distance_file, rating_matrix_file):\n",
    "    # Load and prepare the Manhattan distance matrix\n",
    "    manhattan_distance_df = pd.read_csv(manhattan_distance_file, index_col=0)\n",
    "    manhattan_distance_df.columns = manhattan_distance_df.columns.astype(int)  # Ensure MovieIDs as columns are integers\n",
    "    \n",
    "    # Load and prepare the movie-customer rating matrix\n",
    "    rating_matrix_df = pd.read_csv(rating_matrix_file, index_col=0)\n",
    "    rating_matrix_df.columns = rating_matrix_df.columns.astype(int)  # Ensure CustomerIDs as columns are integers\n",
    "    \n",
    "    return manhattan_distance_df, rating_matrix_df\n",
    "\n",
    "def predict_rating_item_manhattan(movie_id, customer_id, k, movie_distance_df, item_customer_matrix):\n",
    "    if movie_id not in movie_distance_df.index or customer_id not in item_customer_matrix.columns:\n",
    "        return np.nan  # Cannot predict if either movie or customer is not found\n",
    "\n",
    "    # Retrieve the k closest movies to the given movie_id according to Manhattan distance\n",
    "    closest_k_movies = movie_distance_df.loc[movie_id].nsmallest(k+1)[1:]  # Exclude self distance\n",
    "    \n",
    "    # Filter to get only those top k movies that the customer has rated\n",
    "    rated_by_customer = item_customer_matrix.loc[closest_k_movies.index, customer_id].dropna()\n",
    "    \n",
    "    # Retrieve corresponding distances\n",
    "    distances = closest_k_movies.loc[rated_by_customer.index]\n",
    "    \n",
    "    if distances.empty:\n",
    "        return np.nan  # Cannot predict if there are no similar movies rated by the customer\n",
    "    \n",
    "    # Compute the weighted average rating, inverting the distance as weights since closer distance means higher similarity\n",
    "    weighted_sum = np.dot(rated_by_customer, 1/distances)\n",
    "    prediction = weighted_sum / (1/distances).sum()\n",
    "\n",
    "    return prediction\n"
   ]
  },
  {
   "cell_type": "code",
   "execution_count": 4,
   "metadata": {},
   "outputs": [
    {
     "name": "stdout",
     "output_type": "stream",
     "text": [
      "k=40, RMSE=1.1419, MSE=1.0686\n",
      "k=50, RMSE=1.2348, MSE=1.1478\n",
      "k=60, RMSE=1.6732, MSE=1.7863\n"
     ]
    }
   ],
   "source": [
    "def evaluate_predictions(k_values, transformed_validate_file, manhattan_distance_df, rating_matrix_df, sample_frac=0.001):\n",
    "    results = []\n",
    "\n",
    "    # Load and sample a fraction of the transformed validation data for faster execution\n",
    "    transformed_validate_df = pd.read_csv(transformed_validate_file, index_col=0)\n",
    "    transformed_validate_df.columns = transformed_validate_df.columns.astype(int)  # Ensure CustomerIDs as columns are integers\n",
    "    # Sample a fraction of the MovieIDs for quicker processing\n",
    "    sampled_transformed_validate_df = transformed_validate_df.sample(frac=sample_frac, random_state=42)\n",
    "    \n",
    "    for k in k_values:\n",
    "        actual = []\n",
    "        predicted = []\n",
    "\n",
    "        for movie_id in sampled_transformed_validate_df.index:\n",
    "            for customer_id in sampled_transformed_validate_df.columns:\n",
    "                actual_rating = sampled_transformed_validate_df.at[movie_id, customer_id]\n",
    "                if pd.notna(actual_rating):\n",
    "                    pred_rating = predict_rating_item_manhattan(movie_id, customer_id, k, manhattan_distance_df, rating_matrix_df)\n",
    "                    if pd.notna(pred_rating):\n",
    "                        actual.append(actual_rating)\n",
    "                        predicted.append(pred_rating)\n",
    "        \n",
    "        mse = mean_squared_error(actual, predicted)\n",
    "        rmse = sqrt(mse)\n",
    "\n",
    "        results.append({'k': k, 'RMSE': rmse, 'MSE': mse})\n",
    "\n",
    "    return results\n",
    "\n",
    "# Example usage with sampling for faster evaluation\n",
    "manhattan_distance_df, rating_matrix_df = load_and_prepare_matrices('movie_manhattan_distance_matrix.csv', 'movie_customer_rating_matrix.csv')\n",
    "k_values = [40, 50, 60]\n",
    "evaluation_results = evaluate_predictions(k_values, 'transformed_validate.csv', manhattan_distance_df, rating_matrix_df, sample_frac=0.1)\n",
    "\n",
    "for result in evaluation_results:\n",
    "    print(f\"k={result['k']}, RMSE={result['RMSE']:.4f}, MSE={result['MSE']:.4f}\")"
   ]
  },
  {
   "cell_type": "markdown",
   "metadata": {},
   "source": [
    "### 3.2.4. Testing the best model using test dataset"
   ]
  },
  {
   "cell_type": "markdown",
   "metadata": {},
   "source": [
    "Manhattan Distance was the best method so far. The Best value of K after Hyperparameter tuning was 40. So, lets use it to get our final results on test dataset."
   ]
  },
  {
   "cell_type": "code",
   "execution_count": 20,
   "metadata": {},
   "outputs": [
    {
     "name": "stdout",
     "output_type": "stream",
     "text": [
      "RMSE: 1.0810471239167976\n",
      "MSE: 1.1686628841287798\n"
     ]
    }
   ],
   "source": [
    "# Load the cosine similarity matrix for movies\n",
    "movie_similarity_df = pd.read_csv('movie_manhattan_distance_matrix.csv', index_col='MovieID')\n",
    "\n",
    "# Load the validation data\n",
    "validate_df = pd.read_csv('test.csv')\n",
    "\n",
    "# Load the movie-customer rating matrix\n",
    "rating_matrix_df = pd.read_csv('movie_customer_rating_matrix.csv').set_index('MovieID')\n",
    "\n",
    "# Predict the rating using the cosine similarity matrix\n",
    "def predict_rating(movie_id, customer_id, k, similarity_df, rating_matrix):\n",
    "    # If the movie_id or customer_id is not found, use a default score\n",
    "    # Here we'll use the average rating of all movies or the average rating given by the customer\n",
    "    if movie_id not in similarity_df.index or customer_id not in rating_matrix.columns:\n",
    "        if movie_id not in similarity_df.index and customer_id in rating_matrix.columns:\n",
    "            # Customer exists, movie does not. Use the customer's average rating.\n",
    "            return rating_matrix.loc[:, customer_id].mean()\n",
    "        elif customer_id not in rating_matrix.columns and movie_id in similarity_df.index:\n",
    "            # Movie exists, customer does not. Use the movie's average rating.\n",
    "            return rating_matrix.loc[movie_id, :].mean()\n",
    "        else:\n",
    "            # Neither movie nor customer exists. Use the global average.\n",
    "            return rating_matrix.stack().mean()\n",
    "    \n",
    "    # Retrieve the k most similar movies, excluding the movie itself\n",
    "    similar_movies = similarity_df.loc[movie_id].sort_values(ascending=False)[1:k+1]\n",
    "    \n",
    "    # Get the ratings that this customer has given to the similar movies\n",
    "    customer_ratings = rating_matrix.loc[similar_movies.index, customer_id]\n",
    "    \n",
    "    # Handle cases where similar movies might not have been rated by the customer\n",
    "    customer_ratings = customer_ratings.fillna(0)\n",
    "    similar_movies = similar_movies * (customer_ratings > 0).astype(int)\n",
    "    \n",
    "    # Calculate the predicted rating as a weighted average\n",
    "    if similar_movies.sum() > 0:\n",
    "        weighted_ratings = customer_ratings * similar_movies\n",
    "        return weighted_ratings.sum() / similar_movies.sum()\n",
    "    else:\n",
    "        # No similar movies have been rated by the customer\n",
    "        # Use the average rating of all rated movies by this customer\n",
    "        return rating_matrix.loc[:, customer_id].mean() if customer_id in rating_matrix.columns else rating_matrix.stack().mean()\n",
    "\n",
    "# Define k for the top k most similar movies to consider for the prediction\n",
    "k = 40\n",
    "\n",
    "# Apply the predict_rating function to each row in the validation DataFrame\n",
    "validate_df['PredictedRating'] = validate_df.apply(\n",
    "    lambda x: predict_rating(x['MovieID'], x['CustomerID'], k, movie_similarity_df, rating_matrix_df),\n",
    "    axis=1\n",
    ")\n",
    "\n",
    "# Calculate the RMSE and MSE, ignoring NaN values in predictions\n",
    "validate_df.dropna(subset=['PredictedRating'], inplace=True)  # Remove rows with NaN predictions\n",
    "mse = mean_squared_error(validate_df['Rating'], validate_df['PredictedRating'])\n",
    "rmse = np.sqrt(mse)\n",
    "\n",
    "print(f\"RMSE: {rmse}\")\n",
    "print(f\"MSE: {mse}\")\n"
   ]
  },
  {
   "cell_type": "markdown",
   "metadata": {},
   "source": [
    "# 4. Item-based classification (ItemKNN)"
   ]
  },
  {
   "cell_type": "markdown",
   "metadata": {},
   "source": [
    "### 4.1. Preparing the Database"
   ]
  },
  {
   "cell_type": "code",
   "execution_count": 83,
   "metadata": {},
   "outputs": [
    {
     "name": "stdout",
     "output_type": "stream",
     "text": [
      "Data has been split into train, validate, and test sets for the top 1% movies and saved as CSV files.\n"
     ]
    }
   ],
   "source": [
    "# Load the CSV file\n",
    "df = pd.read_csv('combined_data.csv', usecols=['MovieID', 'CustomerID', 'Rating'])\n",
    "\n",
    "# Calculate the count of ratings for each movie\n",
    "rating_counts = df['MovieID'].value_counts()\n",
    "\n",
    "# Determine the top 5% movies in terms of rating counts\n",
    "top_5_percent_threshold = rating_counts.quantile(0.99)\n",
    "top_movies = rating_counts[rating_counts >= top_5_percent_threshold].index\n",
    "\n",
    "# Filter the original DataFrame to include only movies in the top 5%\n",
    "filtered_df = df[df['MovieID'].isin(top_movies)]\n",
    "\n",
    "# Sample 5% of the filtered data\n",
    "sampled_df = filtered_df.sample(frac=0.05, random_state=42)\n",
    "\n",
    "# Now, split the sampled data into train, validate, and test sets\n",
    "# Let's use 70% for train, 15% for validation, and 15% for test.\n",
    "train_df, temp_df = train_test_split(sampled_df, test_size=0.3, random_state=42)  # 30% for temp, which is 15% for validation and 15% for test from the total\n",
    "validate_df, test_df = train_test_split(temp_df, test_size=0.5, random_state=42)  # Split the temp evenly into validation and test\n",
    "\n",
    "# Save the split datasets to new CSV files\n",
    "train_df.to_csv('train_v2.csv', index=False)\n",
    "validate_df.to_csv('validate_v2.csv', index=False)\n",
    "test_df.to_csv('test_v2.csv', index=False)\n",
    "\n",
    "print(\"Data has been split into train, validate, and test sets for the top 1% movies and saved as CSV files.\")\n"
   ]
  },
  {
   "cell_type": "code",
   "execution_count": 84,
   "metadata": {},
   "outputs": [
    {
     "data": {
      "text/html": [
       "<div>\n",
       "<style scoped>\n",
       "    .dataframe tbody tr th:only-of-type {\n",
       "        vertical-align: middle;\n",
       "    }\n",
       "\n",
       "    .dataframe tbody tr th {\n",
       "        vertical-align: top;\n",
       "    }\n",
       "\n",
       "    .dataframe thead th {\n",
       "        text-align: right;\n",
       "    }\n",
       "</style>\n",
       "<table border=\"1\" class=\"dataframe\">\n",
       "  <thead>\n",
       "    <tr style=\"text-align: right;\">\n",
       "      <th></th>\n",
       "      <th>MovieID</th>\n",
       "      <th>CustomerID</th>\n",
       "      <th>Rating</th>\n",
       "    </tr>\n",
       "  </thead>\n",
       "  <tbody>\n",
       "    <tr>\n",
       "      <th>21079021</th>\n",
       "      <td>3938</td>\n",
       "      <td>2415114</td>\n",
       "      <td>3</td>\n",
       "    </tr>\n",
       "    <tr>\n",
       "      <th>12840165</th>\n",
       "      <td>2452</td>\n",
       "      <td>1374373</td>\n",
       "      <td>5</td>\n",
       "    </tr>\n",
       "    <tr>\n",
       "      <th>20022628</th>\n",
       "      <td>3825</td>\n",
       "      <td>257021</td>\n",
       "      <td>3</td>\n",
       "    </tr>\n",
       "    <tr>\n",
       "      <th>23782971</th>\n",
       "      <td>4432</td>\n",
       "      <td>2014748</td>\n",
       "      <td>4</td>\n",
       "    </tr>\n",
       "    <tr>\n",
       "      <th>17949682</th>\n",
       "      <td>3427</td>\n",
       "      <td>204994</td>\n",
       "      <td>4</td>\n",
       "    </tr>\n",
       "  </tbody>\n",
       "</table>\n",
       "</div>"
      ],
      "text/plain": [
       "          MovieID  CustomerID  Rating\n",
       "21079021     3938     2415114       3\n",
       "12840165     2452     1374373       5\n",
       "20022628     3825      257021       3\n",
       "23782971     4432     2014748       4\n",
       "17949682     3427      204994       4"
      ]
     },
     "execution_count": 84,
     "metadata": {},
     "output_type": "execute_result"
    }
   ],
   "source": [
    "train_df.head()"
   ]
  },
  {
   "cell_type": "code",
   "execution_count": 85,
   "metadata": {},
   "outputs": [
    {
     "name": "stdout",
     "output_type": "stream",
     "text": [
      "<class 'pandas.core.frame.DataFrame'>\n",
      "Int64Index: 194703 entries, 21079021 to 20727947\n",
      "Data columns (total 3 columns):\n",
      " #   Column      Non-Null Count   Dtype\n",
      "---  ------      --------------   -----\n",
      " 0   MovieID     194703 non-null  int64\n",
      " 1   CustomerID  194703 non-null  int64\n",
      " 2   Rating      194703 non-null  int64\n",
      "dtypes: int64(3)\n",
      "memory usage: 5.9 MB\n"
     ]
    }
   ],
   "source": [
    "train_df.info()"
   ]
  },
  {
   "cell_type": "code",
   "execution_count": 86,
   "metadata": {},
   "outputs": [
    {
     "data": {
      "text/html": [
       "<div>\n",
       "<style scoped>\n",
       "    .dataframe tbody tr th:only-of-type {\n",
       "        vertical-align: middle;\n",
       "    }\n",
       "\n",
       "    .dataframe tbody tr th {\n",
       "        vertical-align: top;\n",
       "    }\n",
       "\n",
       "    .dataframe thead th {\n",
       "        text-align: right;\n",
       "    }\n",
       "</style>\n",
       "<table border=\"1\" class=\"dataframe\">\n",
       "  <thead>\n",
       "    <tr style=\"text-align: right;\">\n",
       "      <th></th>\n",
       "      <th>MovieID</th>\n",
       "      <th>CustomerID</th>\n",
       "      <th>Rating</th>\n",
       "    </tr>\n",
       "  </thead>\n",
       "  <tbody>\n",
       "    <tr>\n",
       "      <th>5505313</th>\n",
       "      <td>1110</td>\n",
       "      <td>313156</td>\n",
       "      <td>4</td>\n",
       "    </tr>\n",
       "    <tr>\n",
       "      <th>5543522</th>\n",
       "      <td>1110</td>\n",
       "      <td>1415977</td>\n",
       "      <td>4</td>\n",
       "    </tr>\n",
       "    <tr>\n",
       "      <th>3115236</th>\n",
       "      <td>571</td>\n",
       "      <td>2458006</td>\n",
       "      <td>5</td>\n",
       "    </tr>\n",
       "    <tr>\n",
       "      <th>19673087</th>\n",
       "      <td>3756</td>\n",
       "      <td>1729454</td>\n",
       "      <td>2</td>\n",
       "    </tr>\n",
       "    <tr>\n",
       "      <th>6285686</th>\n",
       "      <td>1220</td>\n",
       "      <td>2622045</td>\n",
       "      <td>3</td>\n",
       "    </tr>\n",
       "  </tbody>\n",
       "</table>\n",
       "</div>"
      ],
      "text/plain": [
       "          MovieID  CustomerID  Rating\n",
       "5505313      1110      313156       4\n",
       "5543522      1110     1415977       4\n",
       "3115236       571     2458006       5\n",
       "19673087     3756     1729454       2\n",
       "6285686      1220     2622045       3"
      ]
     },
     "execution_count": 86,
     "metadata": {},
     "output_type": "execute_result"
    }
   ],
   "source": [
    "validate_df.head()"
   ]
  },
  {
   "cell_type": "code",
   "execution_count": 87,
   "metadata": {},
   "outputs": [
    {
     "name": "stdout",
     "output_type": "stream",
     "text": [
      "<class 'pandas.core.frame.DataFrame'>\n",
      "Int64Index: 41722 entries, 5505313 to 23726844\n",
      "Data columns (total 3 columns):\n",
      " #   Column      Non-Null Count  Dtype\n",
      "---  ------      --------------  -----\n",
      " 0   MovieID     41722 non-null  int64\n",
      " 1   CustomerID  41722 non-null  int64\n",
      " 2   Rating      41722 non-null  int64\n",
      "dtypes: int64(3)\n",
      "memory usage: 1.3 MB\n"
     ]
    }
   ],
   "source": [
    "validate_df.info()"
   ]
  },
  {
   "cell_type": "code",
   "execution_count": 88,
   "metadata": {},
   "outputs": [
    {
     "data": {
      "text/html": [
       "<div>\n",
       "<style scoped>\n",
       "    .dataframe tbody tr th:only-of-type {\n",
       "        vertical-align: middle;\n",
       "    }\n",
       "\n",
       "    .dataframe tbody tr th {\n",
       "        vertical-align: top;\n",
       "    }\n",
       "\n",
       "    .dataframe thead th {\n",
       "        text-align: right;\n",
       "    }\n",
       "</style>\n",
       "<table border=\"1\" class=\"dataframe\">\n",
       "  <thead>\n",
       "    <tr style=\"text-align: right;\">\n",
       "      <th></th>\n",
       "      <th>MovieID</th>\n",
       "      <th>CustomerID</th>\n",
       "      <th>Rating</th>\n",
       "    </tr>\n",
       "  </thead>\n",
       "  <tbody>\n",
       "    <tr>\n",
       "      <th>19682677</th>\n",
       "      <td>3756</td>\n",
       "      <td>2331649</td>\n",
       "      <td>3</td>\n",
       "    </tr>\n",
       "    <tr>\n",
       "      <th>15141256</th>\n",
       "      <td>2913</td>\n",
       "      <td>2171668</td>\n",
       "      <td>5</td>\n",
       "    </tr>\n",
       "    <tr>\n",
       "      <th>16983366</th>\n",
       "      <td>3282</td>\n",
       "      <td>1843962</td>\n",
       "      <td>1</td>\n",
       "    </tr>\n",
       "    <tr>\n",
       "      <th>21830515</th>\n",
       "      <td>4123</td>\n",
       "      <td>2199466</td>\n",
       "      <td>1</td>\n",
       "    </tr>\n",
       "    <tr>\n",
       "      <th>14415492</th>\n",
       "      <td>2782</td>\n",
       "      <td>2239881</td>\n",
       "      <td>5</td>\n",
       "    </tr>\n",
       "  </tbody>\n",
       "</table>\n",
       "</div>"
      ],
      "text/plain": [
       "          MovieID  CustomerID  Rating\n",
       "19682677     3756     2331649       3\n",
       "15141256     2913     2171668       5\n",
       "16983366     3282     1843962       1\n",
       "21830515     4123     2199466       1\n",
       "14415492     2782     2239881       5"
      ]
     },
     "execution_count": 88,
     "metadata": {},
     "output_type": "execute_result"
    }
   ],
   "source": [
    "test_df.head()"
   ]
  },
  {
   "cell_type": "code",
   "execution_count": 89,
   "metadata": {},
   "outputs": [
    {
     "name": "stdout",
     "output_type": "stream",
     "text": [
      "<class 'pandas.core.frame.DataFrame'>\n",
      "Int64Index: 41723 entries, 19682677 to 20071419\n",
      "Data columns (total 3 columns):\n",
      " #   Column      Non-Null Count  Dtype\n",
      "---  ------      --------------  -----\n",
      " 0   MovieID     41723 non-null  int64\n",
      " 1   CustomerID  41723 non-null  int64\n",
      " 2   Rating      41723 non-null  int64\n",
      "dtypes: int64(3)\n",
      "memory usage: 1.3 MB\n"
     ]
    }
   ],
   "source": [
    "test_df.info()"
   ]
  },
  {
   "cell_type": "code",
   "execution_count": 94,
   "metadata": {},
   "outputs": [
    {
     "name": "stdout",
     "output_type": "stream",
     "text": [
      "Matrix saved to validate_matrixv2.csv.\n"
     ]
    }
   ],
   "source": [
    "# Load the CSV file\n",
    "# Ensure you replace 'path_to_your_file.csv' with the actual path to the CSV file.\n",
    "df = pd.read_csv('validate_v2.csv', usecols=['MovieID', 'CustomerID', 'Rating'])\n",
    "\n",
    "# Pivot the DataFrame to create the matrix\n",
    "# Set MovieID as the index, CustomerID as the columns, and fill with Ratings\n",
    "matrix_df = df.pivot_table(index='MovieID', columns='CustomerID', values='Rating')\n",
    "\n",
    "# Save the matrix to a new CSV file\n",
    "matrix_df.to_csv('validate_matrixv2.csv')\n",
    "\n",
    "print(\"Matrix saved to validate_matrixv2.csv.\")"
   ]
  },
  {
   "cell_type": "markdown",
   "metadata": {},
   "source": [
    "#### 4.2.1. Creating rating Matrix"
   ]
  },
  {
   "cell_type": "code",
   "execution_count": 90,
   "metadata": {},
   "outputs": [
    {
     "name": "stdout",
     "output_type": "stream",
     "text": [
      "Matrix saved to movie_customer_rating_matrixv2.csv.\n"
     ]
    }
   ],
   "source": [
    "# Load the CSV file\n",
    "# Ensure you replace 'path_to_your_file.csv' with the actual path to the CSV file.\n",
    "df = pd.read_csv('train_v2.csv', usecols=['MovieID', 'CustomerID', 'Rating'])\n",
    "\n",
    "# Pivot the DataFrame to create the matrix\n",
    "# Set MovieID as the index, CustomerID as the columns, and fill with Ratings\n",
    "matrix_df = df.pivot_table(index='MovieID', columns='CustomerID', values='Rating')\n",
    "\n",
    "# Save the matrix to a new CSV file\n",
    "matrix_df.to_csv('movie_customer_rating_matrixv2.csv')\n",
    "\n",
    "print(\"Matrix saved to movie_customer_rating_matrixv2.csv.\")"
   ]
  },
  {
   "cell_type": "code",
   "execution_count": 91,
   "metadata": {},
   "outputs": [
    {
     "data": {
      "text/html": [
       "<div>\n",
       "<style scoped>\n",
       "    .dataframe tbody tr th:only-of-type {\n",
       "        vertical-align: middle;\n",
       "    }\n",
       "\n",
       "    .dataframe tbody tr th {\n",
       "        vertical-align: top;\n",
       "    }\n",
       "\n",
       "    .dataframe thead th {\n",
       "        text-align: right;\n",
       "    }\n",
       "</style>\n",
       "<table border=\"1\" class=\"dataframe\">\n",
       "  <thead>\n",
       "    <tr style=\"text-align: right;\">\n",
       "      <th>CustomerID</th>\n",
       "      <th>7</th>\n",
       "      <th>59</th>\n",
       "      <th>87</th>\n",
       "      <th>97</th>\n",
       "      <th>116</th>\n",
       "      <th>130</th>\n",
       "      <th>188</th>\n",
       "      <th>189</th>\n",
       "      <th>199</th>\n",
       "      <th>231</th>\n",
       "      <th>...</th>\n",
       "      <th>2649288</th>\n",
       "      <th>2649296</th>\n",
       "      <th>2649308</th>\n",
       "      <th>2649311</th>\n",
       "      <th>2649328</th>\n",
       "      <th>2649335</th>\n",
       "      <th>2649370</th>\n",
       "      <th>2649378</th>\n",
       "      <th>2649426</th>\n",
       "      <th>2649429</th>\n",
       "    </tr>\n",
       "    <tr>\n",
       "      <th>MovieID</th>\n",
       "      <th></th>\n",
       "      <th></th>\n",
       "      <th></th>\n",
       "      <th></th>\n",
       "      <th></th>\n",
       "      <th></th>\n",
       "      <th></th>\n",
       "      <th></th>\n",
       "      <th></th>\n",
       "      <th></th>\n",
       "      <th></th>\n",
       "      <th></th>\n",
       "      <th></th>\n",
       "      <th></th>\n",
       "      <th></th>\n",
       "      <th></th>\n",
       "      <th></th>\n",
       "      <th></th>\n",
       "      <th></th>\n",
       "      <th></th>\n",
       "      <th></th>\n",
       "    </tr>\n",
       "  </thead>\n",
       "  <tbody>\n",
       "    <tr>\n",
       "      <th>30</th>\n",
       "      <td>NaN</td>\n",
       "      <td>NaN</td>\n",
       "      <td>NaN</td>\n",
       "      <td>NaN</td>\n",
       "      <td>NaN</td>\n",
       "      <td>NaN</td>\n",
       "      <td>NaN</td>\n",
       "      <td>NaN</td>\n",
       "      <td>NaN</td>\n",
       "      <td>NaN</td>\n",
       "      <td>...</td>\n",
       "      <td>NaN</td>\n",
       "      <td>NaN</td>\n",
       "      <td>NaN</td>\n",
       "      <td>NaN</td>\n",
       "      <td>4.0</td>\n",
       "      <td>NaN</td>\n",
       "      <td>NaN</td>\n",
       "      <td>NaN</td>\n",
       "      <td>NaN</td>\n",
       "      <td>NaN</td>\n",
       "    </tr>\n",
       "    <tr>\n",
       "      <th>191</th>\n",
       "      <td>NaN</td>\n",
       "      <td>NaN</td>\n",
       "      <td>NaN</td>\n",
       "      <td>NaN</td>\n",
       "      <td>NaN</td>\n",
       "      <td>NaN</td>\n",
       "      <td>NaN</td>\n",
       "      <td>NaN</td>\n",
       "      <td>NaN</td>\n",
       "      <td>NaN</td>\n",
       "      <td>...</td>\n",
       "      <td>NaN</td>\n",
       "      <td>NaN</td>\n",
       "      <td>NaN</td>\n",
       "      <td>NaN</td>\n",
       "      <td>NaN</td>\n",
       "      <td>NaN</td>\n",
       "      <td>NaN</td>\n",
       "      <td>NaN</td>\n",
       "      <td>NaN</td>\n",
       "      <td>NaN</td>\n",
       "    </tr>\n",
       "    <tr>\n",
       "      <th>313</th>\n",
       "      <td>NaN</td>\n",
       "      <td>NaN</td>\n",
       "      <td>NaN</td>\n",
       "      <td>NaN</td>\n",
       "      <td>4.0</td>\n",
       "      <td>NaN</td>\n",
       "      <td>NaN</td>\n",
       "      <td>NaN</td>\n",
       "      <td>4.0</td>\n",
       "      <td>NaN</td>\n",
       "      <td>...</td>\n",
       "      <td>NaN</td>\n",
       "      <td>NaN</td>\n",
       "      <td>NaN</td>\n",
       "      <td>NaN</td>\n",
       "      <td>NaN</td>\n",
       "      <td>4.0</td>\n",
       "      <td>NaN</td>\n",
       "      <td>NaN</td>\n",
       "      <td>NaN</td>\n",
       "      <td>NaN</td>\n",
       "    </tr>\n",
       "    <tr>\n",
       "      <th>457</th>\n",
       "      <td>NaN</td>\n",
       "      <td>NaN</td>\n",
       "      <td>NaN</td>\n",
       "      <td>NaN</td>\n",
       "      <td>NaN</td>\n",
       "      <td>NaN</td>\n",
       "      <td>NaN</td>\n",
       "      <td>NaN</td>\n",
       "      <td>NaN</td>\n",
       "      <td>NaN</td>\n",
       "      <td>...</td>\n",
       "      <td>NaN</td>\n",
       "      <td>NaN</td>\n",
       "      <td>NaN</td>\n",
       "      <td>4.0</td>\n",
       "      <td>NaN</td>\n",
       "      <td>NaN</td>\n",
       "      <td>NaN</td>\n",
       "      <td>NaN</td>\n",
       "      <td>NaN</td>\n",
       "      <td>NaN</td>\n",
       "    </tr>\n",
       "    <tr>\n",
       "      <th>571</th>\n",
       "      <td>NaN</td>\n",
       "      <td>NaN</td>\n",
       "      <td>NaN</td>\n",
       "      <td>NaN</td>\n",
       "      <td>NaN</td>\n",
       "      <td>NaN</td>\n",
       "      <td>NaN</td>\n",
       "      <td>NaN</td>\n",
       "      <td>NaN</td>\n",
       "      <td>NaN</td>\n",
       "      <td>...</td>\n",
       "      <td>NaN</td>\n",
       "      <td>NaN</td>\n",
       "      <td>NaN</td>\n",
       "      <td>NaN</td>\n",
       "      <td>NaN</td>\n",
       "      <td>NaN</td>\n",
       "      <td>NaN</td>\n",
       "      <td>NaN</td>\n",
       "      <td>NaN</td>\n",
       "      <td>NaN</td>\n",
       "    </tr>\n",
       "  </tbody>\n",
       "</table>\n",
       "<p>5 rows × 140583 columns</p>\n",
       "</div>"
      ],
      "text/plain": [
       "CustomerID  7        59       87       97       116      130      188      \\\n",
       "MovieID                                                                     \n",
       "30              NaN      NaN      NaN      NaN      NaN      NaN      NaN   \n",
       "191             NaN      NaN      NaN      NaN      NaN      NaN      NaN   \n",
       "313             NaN      NaN      NaN      NaN      4.0      NaN      NaN   \n",
       "457             NaN      NaN      NaN      NaN      NaN      NaN      NaN   \n",
       "571             NaN      NaN      NaN      NaN      NaN      NaN      NaN   \n",
       "\n",
       "CustomerID  189      199      231      ...  2649288  2649296  2649308  \\\n",
       "MovieID                                ...                              \n",
       "30              NaN      NaN      NaN  ...      NaN      NaN      NaN   \n",
       "191             NaN      NaN      NaN  ...      NaN      NaN      NaN   \n",
       "313             NaN      4.0      NaN  ...      NaN      NaN      NaN   \n",
       "457             NaN      NaN      NaN  ...      NaN      NaN      NaN   \n",
       "571             NaN      NaN      NaN  ...      NaN      NaN      NaN   \n",
       "\n",
       "CustomerID  2649311  2649328  2649335  2649370  2649378  2649426  2649429  \n",
       "MovieID                                                                    \n",
       "30              NaN      4.0      NaN      NaN      NaN      NaN      NaN  \n",
       "191             NaN      NaN      NaN      NaN      NaN      NaN      NaN  \n",
       "313             NaN      NaN      4.0      NaN      NaN      NaN      NaN  \n",
       "457             4.0      NaN      NaN      NaN      NaN      NaN      NaN  \n",
       "571             NaN      NaN      NaN      NaN      NaN      NaN      NaN  \n",
       "\n",
       "[5 rows x 140583 columns]"
      ]
     },
     "execution_count": 91,
     "metadata": {},
     "output_type": "execute_result"
    }
   ],
   "source": [
    "matrix_df.head()"
   ]
  },
  {
   "cell_type": "code",
   "execution_count": 92,
   "metadata": {},
   "outputs": [
    {
     "name": "stdout",
     "output_type": "stream",
     "text": [
      "<class 'pandas.core.frame.DataFrame'>\n",
      "Int64Index: 45 entries, 30 to 4472\n",
      "Columns: 140583 entries, 7 to 2649429\n",
      "dtypes: float64(140583)\n",
      "memory usage: 48.3 MB\n"
     ]
    }
   ],
   "source": [
    "matrix_df.info()"
   ]
  },
  {
   "cell_type": "markdown",
   "metadata": {},
   "source": [
    "#### 4.2.2. Creating Manhattan Distance Matrix"
   ]
  },
  {
   "cell_type": "code",
   "execution_count": 113,
   "metadata": {},
   "outputs": [
    {
     "name": "stdout",
     "output_type": "stream",
     "text": [
      "Manhattan distance matrix saved to movie_manhattan_distance_matrixv2.csv.\n"
     ]
    }
   ],
   "source": [
    "# Load the CSV file\n",
    "# Ensure you replace 'path_to_your_file.csv' with the actual path to the CSV file.\n",
    "df = pd.read_csv('movie_customer_rating_matrixv2.csv', index_col='MovieID')\n",
    "\n",
    "# Fill missing values with 0s, as Manhattan distance requires numerical values\n",
    "df.fillna(0, inplace=True)\n",
    "\n",
    "# Calculate the pairwise Manhattan distances between the MovieIDs\n",
    "manhattan_distances = pdist(df.values, metric='cityblock')\n",
    "\n",
    "# Convert the condensed distance matrix to a square matrix\n",
    "manhattan_distance_matrix = squareform(manhattan_distances)\n",
    "\n",
    "# Convert the distance matrix into a DataFrame\n",
    "manhattan_df = pd.DataFrame(manhattan_distance_matrix, index=df.index, columns=df.index)\n",
    "\n",
    "# Save the Manhattan distance matrix to a new CSV file\n",
    "manhattan_df.to_csv('movie_manhattan_distance_matrixv2.csv')\n",
    "\n",
    "print(\"Manhattan distance matrix saved to movie_manhattan_distance_matrixv2.csv.\")\n"
   ]
  },
  {
   "cell_type": "code",
   "execution_count": 114,
   "metadata": {},
   "outputs": [
    {
     "data": {
      "text/html": [
       "<div>\n",
       "<style scoped>\n",
       "    .dataframe tbody tr th:only-of-type {\n",
       "        vertical-align: middle;\n",
       "    }\n",
       "\n",
       "    .dataframe tbody tr th {\n",
       "        vertical-align: top;\n",
       "    }\n",
       "\n",
       "    .dataframe thead th {\n",
       "        text-align: right;\n",
       "    }\n",
       "</style>\n",
       "<table border=\"1\" class=\"dataframe\">\n",
       "  <thead>\n",
       "    <tr style=\"text-align: right;\">\n",
       "      <th>MovieID</th>\n",
       "      <th>30</th>\n",
       "      <th>191</th>\n",
       "      <th>313</th>\n",
       "      <th>457</th>\n",
       "      <th>571</th>\n",
       "      <th>607</th>\n",
       "      <th>758</th>\n",
       "      <th>886</th>\n",
       "      <th>1110</th>\n",
       "      <th>1145</th>\n",
       "      <th>...</th>\n",
       "      <th>3860</th>\n",
       "      <th>3917</th>\n",
       "      <th>3925</th>\n",
       "      <th>3938</th>\n",
       "      <th>3962</th>\n",
       "      <th>4123</th>\n",
       "      <th>4306</th>\n",
       "      <th>4356</th>\n",
       "      <th>4432</th>\n",
       "      <th>4472</th>\n",
       "    </tr>\n",
       "    <tr>\n",
       "      <th>MovieID</th>\n",
       "      <th></th>\n",
       "      <th></th>\n",
       "      <th></th>\n",
       "      <th></th>\n",
       "      <th></th>\n",
       "      <th></th>\n",
       "      <th></th>\n",
       "      <th></th>\n",
       "      <th></th>\n",
       "      <th></th>\n",
       "      <th></th>\n",
       "      <th></th>\n",
       "      <th></th>\n",
       "      <th></th>\n",
       "      <th></th>\n",
       "      <th></th>\n",
       "      <th></th>\n",
       "      <th></th>\n",
       "      <th></th>\n",
       "      <th></th>\n",
       "      <th></th>\n",
       "    </tr>\n",
       "  </thead>\n",
       "  <tbody>\n",
       "    <tr>\n",
       "      <th>30</th>\n",
       "      <td>0.0</td>\n",
       "      <td>28338.0</td>\n",
       "      <td>27890.0</td>\n",
       "      <td>30894.0</td>\n",
       "      <td>36597.0</td>\n",
       "      <td>27413.0</td>\n",
       "      <td>27818.0</td>\n",
       "      <td>31182.0</td>\n",
       "      <td>29359.0</td>\n",
       "      <td>30285.0</td>\n",
       "      <td>...</td>\n",
       "      <td>33919.0</td>\n",
       "      <td>28067.0</td>\n",
       "      <td>28152.0</td>\n",
       "      <td>36885.0</td>\n",
       "      <td>36430.0</td>\n",
       "      <td>29656.0</td>\n",
       "      <td>37760.0</td>\n",
       "      <td>28340.0</td>\n",
       "      <td>35669.0</td>\n",
       "      <td>28057.0</td>\n",
       "    </tr>\n",
       "    <tr>\n",
       "      <th>191</th>\n",
       "      <td>28338.0</td>\n",
       "      <td>0.0</td>\n",
       "      <td>26130.0</td>\n",
       "      <td>28908.0</td>\n",
       "      <td>34805.0</td>\n",
       "      <td>25447.0</td>\n",
       "      <td>26080.0</td>\n",
       "      <td>29282.0</td>\n",
       "      <td>27515.0</td>\n",
       "      <td>28487.0</td>\n",
       "      <td>...</td>\n",
       "      <td>32273.0</td>\n",
       "      <td>26273.0</td>\n",
       "      <td>26224.0</td>\n",
       "      <td>34945.0</td>\n",
       "      <td>34518.0</td>\n",
       "      <td>27800.0</td>\n",
       "      <td>35746.0</td>\n",
       "      <td>26476.0</td>\n",
       "      <td>33839.0</td>\n",
       "      <td>26425.0</td>\n",
       "    </tr>\n",
       "    <tr>\n",
       "      <th>313</th>\n",
       "      <td>27890.0</td>\n",
       "      <td>26130.0</td>\n",
       "      <td>0.0</td>\n",
       "      <td>28622.0</td>\n",
       "      <td>34195.0</td>\n",
       "      <td>25083.0</td>\n",
       "      <td>25662.0</td>\n",
       "      <td>28824.0</td>\n",
       "      <td>26989.0</td>\n",
       "      <td>27923.0</td>\n",
       "      <td>...</td>\n",
       "      <td>31815.0</td>\n",
       "      <td>25833.0</td>\n",
       "      <td>25918.0</td>\n",
       "      <td>34697.0</td>\n",
       "      <td>34264.0</td>\n",
       "      <td>27238.0</td>\n",
       "      <td>35480.0</td>\n",
       "      <td>26048.0</td>\n",
       "      <td>33513.0</td>\n",
       "      <td>25927.0</td>\n",
       "    </tr>\n",
       "    <tr>\n",
       "      <th>457</th>\n",
       "      <td>30894.0</td>\n",
       "      <td>28908.0</td>\n",
       "      <td>28622.0</td>\n",
       "      <td>0.0</td>\n",
       "      <td>37143.0</td>\n",
       "      <td>28063.0</td>\n",
       "      <td>28482.0</td>\n",
       "      <td>31658.0</td>\n",
       "      <td>30101.0</td>\n",
       "      <td>30875.0</td>\n",
       "      <td>...</td>\n",
       "      <td>34701.0</td>\n",
       "      <td>28605.0</td>\n",
       "      <td>28808.0</td>\n",
       "      <td>37577.0</td>\n",
       "      <td>37078.0</td>\n",
       "      <td>30328.0</td>\n",
       "      <td>38352.0</td>\n",
       "      <td>28854.0</td>\n",
       "      <td>36465.0</td>\n",
       "      <td>28835.0</td>\n",
       "    </tr>\n",
       "    <tr>\n",
       "      <th>571</th>\n",
       "      <td>36597.0</td>\n",
       "      <td>34805.0</td>\n",
       "      <td>34195.0</td>\n",
       "      <td>37143.0</td>\n",
       "      <td>0.0</td>\n",
       "      <td>33860.0</td>\n",
       "      <td>34343.0</td>\n",
       "      <td>37533.0</td>\n",
       "      <td>35862.0</td>\n",
       "      <td>36686.0</td>\n",
       "      <td>...</td>\n",
       "      <td>40536.0</td>\n",
       "      <td>34436.0</td>\n",
       "      <td>34643.0</td>\n",
       "      <td>43264.0</td>\n",
       "      <td>42739.0</td>\n",
       "      <td>36119.0</td>\n",
       "      <td>43985.0</td>\n",
       "      <td>34795.0</td>\n",
       "      <td>42298.0</td>\n",
       "      <td>34624.0</td>\n",
       "    </tr>\n",
       "  </tbody>\n",
       "</table>\n",
       "<p>5 rows × 45 columns</p>\n",
       "</div>"
      ],
      "text/plain": [
       "MovieID     30       191      313      457      571      607      758   \\\n",
       "MovieID                                                                  \n",
       "30           0.0  28338.0  27890.0  30894.0  36597.0  27413.0  27818.0   \n",
       "191      28338.0      0.0  26130.0  28908.0  34805.0  25447.0  26080.0   \n",
       "313      27890.0  26130.0      0.0  28622.0  34195.0  25083.0  25662.0   \n",
       "457      30894.0  28908.0  28622.0      0.0  37143.0  28063.0  28482.0   \n",
       "571      36597.0  34805.0  34195.0  37143.0      0.0  33860.0  34343.0   \n",
       "\n",
       "MovieID     886      1110     1145  ...     3860     3917     3925     3938  \\\n",
       "MovieID                             ...                                       \n",
       "30       31182.0  29359.0  30285.0  ...  33919.0  28067.0  28152.0  36885.0   \n",
       "191      29282.0  27515.0  28487.0  ...  32273.0  26273.0  26224.0  34945.0   \n",
       "313      28824.0  26989.0  27923.0  ...  31815.0  25833.0  25918.0  34697.0   \n",
       "457      31658.0  30101.0  30875.0  ...  34701.0  28605.0  28808.0  37577.0   \n",
       "571      37533.0  35862.0  36686.0  ...  40536.0  34436.0  34643.0  43264.0   \n",
       "\n",
       "MovieID     3962     4123     4306     4356     4432     4472  \n",
       "MovieID                                                        \n",
       "30       36430.0  29656.0  37760.0  28340.0  35669.0  28057.0  \n",
       "191      34518.0  27800.0  35746.0  26476.0  33839.0  26425.0  \n",
       "313      34264.0  27238.0  35480.0  26048.0  33513.0  25927.0  \n",
       "457      37078.0  30328.0  38352.0  28854.0  36465.0  28835.0  \n",
       "571      42739.0  36119.0  43985.0  34795.0  42298.0  34624.0  \n",
       "\n",
       "[5 rows x 45 columns]"
      ]
     },
     "execution_count": 114,
     "metadata": {},
     "output_type": "execute_result"
    }
   ],
   "source": [
    "manhattan_df.head()"
   ]
  },
  {
   "cell_type": "markdown",
   "metadata": {},
   "source": [
    "#### 4.2.3. Creating Cosine Similarity Matrix"
   ]
  },
  {
   "cell_type": "code",
   "execution_count": 93,
   "metadata": {},
   "outputs": [
    {
     "name": "stdout",
     "output_type": "stream",
     "text": [
      "Cosine similarity matrix saved to movie_cosine_similarity_matrix.csv.\n"
     ]
    }
   ],
   "source": [
    "# Load the CSV file\n",
    "# Ensure you replace 'path_to_your_file.csv' with the actual path to the CSV file.\n",
    "df = pd.read_csv('movie_customer_rating_matrixv2.csv', index_col='MovieID')\n",
    "\n",
    "# Fill missing values with 0s\n",
    "df.fillna(0, inplace=True)\n",
    "\n",
    "# Compute the cosine similarity matrix\n",
    "cosine_sim_matrix = cosine_similarity(df)\n",
    "\n",
    "# Convert the cosine similarity matrix into a DataFrame\n",
    "cosine_sim_df = pd.DataFrame(cosine_sim_matrix, index=df.index, columns=df.index)\n",
    "\n",
    "# Save the cosine similarity matrix to a new CSV file\n",
    "cosine_sim_df.to_csv('movie_cosine_similarity_matrixv2.csv')\n",
    "\n",
    "print(\"Cosine similarity matrix saved to movie_cosine_similarity_matrix.csv.\")\n"
   ]
  },
  {
   "cell_type": "code",
   "execution_count": 115,
   "metadata": {},
   "outputs": [
    {
     "data": {
      "text/html": [
       "<div>\n",
       "<style scoped>\n",
       "    .dataframe tbody tr th:only-of-type {\n",
       "        vertical-align: middle;\n",
       "    }\n",
       "\n",
       "    .dataframe tbody tr th {\n",
       "        vertical-align: top;\n",
       "    }\n",
       "\n",
       "    .dataframe thead th {\n",
       "        text-align: right;\n",
       "    }\n",
       "</style>\n",
       "<table border=\"1\" class=\"dataframe\">\n",
       "  <thead>\n",
       "    <tr style=\"text-align: right;\">\n",
       "      <th>MovieID</th>\n",
       "      <th>30</th>\n",
       "      <th>191</th>\n",
       "      <th>313</th>\n",
       "      <th>457</th>\n",
       "      <th>571</th>\n",
       "      <th>607</th>\n",
       "      <th>758</th>\n",
       "      <th>886</th>\n",
       "      <th>1110</th>\n",
       "      <th>1145</th>\n",
       "      <th>...</th>\n",
       "      <th>3860</th>\n",
       "      <th>3917</th>\n",
       "      <th>3925</th>\n",
       "      <th>3938</th>\n",
       "      <th>3962</th>\n",
       "      <th>4123</th>\n",
       "      <th>4306</th>\n",
       "      <th>4356</th>\n",
       "      <th>4432</th>\n",
       "      <th>4472</th>\n",
       "    </tr>\n",
       "    <tr>\n",
       "      <th>MovieID</th>\n",
       "      <th></th>\n",
       "      <th></th>\n",
       "      <th></th>\n",
       "      <th></th>\n",
       "      <th></th>\n",
       "      <th></th>\n",
       "      <th></th>\n",
       "      <th></th>\n",
       "      <th></th>\n",
       "      <th></th>\n",
       "      <th></th>\n",
       "      <th></th>\n",
       "      <th></th>\n",
       "      <th></th>\n",
       "      <th></th>\n",
       "      <th></th>\n",
       "      <th></th>\n",
       "      <th></th>\n",
       "      <th></th>\n",
       "      <th></th>\n",
       "      <th></th>\n",
       "    </tr>\n",
       "  </thead>\n",
       "  <tbody>\n",
       "    <tr>\n",
       "      <th>30</th>\n",
       "      <td>1.000000</td>\n",
       "      <td>0.015538</td>\n",
       "      <td>0.013790</td>\n",
       "      <td>0.012625</td>\n",
       "      <td>0.017334</td>\n",
       "      <td>0.016583</td>\n",
       "      <td>0.018589</td>\n",
       "      <td>0.011144</td>\n",
       "      <td>0.012985</td>\n",
       "      <td>0.014406</td>\n",
       "      <td>...</td>\n",
       "      <td>0.021270</td>\n",
       "      <td>0.011910</td>\n",
       "      <td>0.016457</td>\n",
       "      <td>0.017917</td>\n",
       "      <td>0.016814</td>\n",
       "      <td>0.012988</td>\n",
       "      <td>0.015514</td>\n",
       "      <td>0.016136</td>\n",
       "      <td>0.020433</td>\n",
       "      <td>0.020596</td>\n",
       "    </tr>\n",
       "    <tr>\n",
       "      <th>191</th>\n",
       "      <td>0.015538</td>\n",
       "      <td>1.000000</td>\n",
       "      <td>0.010883</td>\n",
       "      <td>0.018324</td>\n",
       "      <td>0.015732</td>\n",
       "      <td>0.021452</td>\n",
       "      <td>0.014334</td>\n",
       "      <td>0.013173</td>\n",
       "      <td>0.012079</td>\n",
       "      <td>0.011642</td>\n",
       "      <td>...</td>\n",
       "      <td>0.015421</td>\n",
       "      <td>0.010182</td>\n",
       "      <td>0.020499</td>\n",
       "      <td>0.020733</td>\n",
       "      <td>0.019243</td>\n",
       "      <td>0.013639</td>\n",
       "      <td>0.020551</td>\n",
       "      <td>0.017734</td>\n",
       "      <td>0.021239</td>\n",
       "      <td>0.012684</td>\n",
       "    </tr>\n",
       "    <tr>\n",
       "      <th>313</th>\n",
       "      <td>0.013790</td>\n",
       "      <td>0.010883</td>\n",
       "      <td>1.000000</td>\n",
       "      <td>0.010052</td>\n",
       "      <td>0.019772</td>\n",
       "      <td>0.015944</td>\n",
       "      <td>0.011368</td>\n",
       "      <td>0.011955</td>\n",
       "      <td>0.013689</td>\n",
       "      <td>0.014773</td>\n",
       "      <td>...</td>\n",
       "      <td>0.014839</td>\n",
       "      <td>0.008241</td>\n",
       "      <td>0.012227</td>\n",
       "      <td>0.013189</td>\n",
       "      <td>0.011438</td>\n",
       "      <td>0.016657</td>\n",
       "      <td>0.013979</td>\n",
       "      <td>0.014424</td>\n",
       "      <td>0.015773</td>\n",
       "      <td>0.012627</td>\n",
       "    </tr>\n",
       "    <tr>\n",
       "      <th>457</th>\n",
       "      <td>0.012625</td>\n",
       "      <td>0.018324</td>\n",
       "      <td>0.010052</td>\n",
       "      <td>1.000000</td>\n",
       "      <td>0.019373</td>\n",
       "      <td>0.015543</td>\n",
       "      <td>0.018004</td>\n",
       "      <td>0.016500</td>\n",
       "      <td>0.008734</td>\n",
       "      <td>0.015599</td>\n",
       "      <td>...</td>\n",
       "      <td>0.017140</td>\n",
       "      <td>0.016234</td>\n",
       "      <td>0.015621</td>\n",
       "      <td>0.015705</td>\n",
       "      <td>0.016318</td>\n",
       "      <td>0.011550</td>\n",
       "      <td>0.016797</td>\n",
       "      <td>0.020742</td>\n",
       "      <td>0.015756</td>\n",
       "      <td>0.015003</td>\n",
       "    </tr>\n",
       "    <tr>\n",
       "      <th>571</th>\n",
       "      <td>0.017334</td>\n",
       "      <td>0.015732</td>\n",
       "      <td>0.019772</td>\n",
       "      <td>0.019373</td>\n",
       "      <td>1.000000</td>\n",
       "      <td>0.016861</td>\n",
       "      <td>0.016198</td>\n",
       "      <td>0.015077</td>\n",
       "      <td>0.011310</td>\n",
       "      <td>0.015623</td>\n",
       "      <td>...</td>\n",
       "      <td>0.015845</td>\n",
       "      <td>0.015907</td>\n",
       "      <td>0.016028</td>\n",
       "      <td>0.018740</td>\n",
       "      <td>0.019505</td>\n",
       "      <td>0.013323</td>\n",
       "      <td>0.020420</td>\n",
       "      <td>0.016728</td>\n",
       "      <td>0.015261</td>\n",
       "      <td>0.016269</td>\n",
       "    </tr>\n",
       "  </tbody>\n",
       "</table>\n",
       "<p>5 rows × 45 columns</p>\n",
       "</div>"
      ],
      "text/plain": [
       "MovieID      30        191       313       457       571       607       758   \\\n",
       "MovieID                                                                         \n",
       "30       1.000000  0.015538  0.013790  0.012625  0.017334  0.016583  0.018589   \n",
       "191      0.015538  1.000000  0.010883  0.018324  0.015732  0.021452  0.014334   \n",
       "313      0.013790  0.010883  1.000000  0.010052  0.019772  0.015944  0.011368   \n",
       "457      0.012625  0.018324  0.010052  1.000000  0.019373  0.015543  0.018004   \n",
       "571      0.017334  0.015732  0.019772  0.019373  1.000000  0.016861  0.016198   \n",
       "\n",
       "MovieID      886       1110      1145  ...      3860      3917      3925  \\\n",
       "MovieID                                ...                                 \n",
       "30       0.011144  0.012985  0.014406  ...  0.021270  0.011910  0.016457   \n",
       "191      0.013173  0.012079  0.011642  ...  0.015421  0.010182  0.020499   \n",
       "313      0.011955  0.013689  0.014773  ...  0.014839  0.008241  0.012227   \n",
       "457      0.016500  0.008734  0.015599  ...  0.017140  0.016234  0.015621   \n",
       "571      0.015077  0.011310  0.015623  ...  0.015845  0.015907  0.016028   \n",
       "\n",
       "MovieID      3938      3962      4123      4306      4356      4432      4472  \n",
       "MovieID                                                                        \n",
       "30       0.017917  0.016814  0.012988  0.015514  0.016136  0.020433  0.020596  \n",
       "191      0.020733  0.019243  0.013639  0.020551  0.017734  0.021239  0.012684  \n",
       "313      0.013189  0.011438  0.016657  0.013979  0.014424  0.015773  0.012627  \n",
       "457      0.015705  0.016318  0.011550  0.016797  0.020742  0.015756  0.015003  \n",
       "571      0.018740  0.019505  0.013323  0.020420  0.016728  0.015261  0.016269  \n",
       "\n",
       "[5 rows x 45 columns]"
      ]
     },
     "execution_count": 115,
     "metadata": {},
     "output_type": "execute_result"
    }
   ],
   "source": [
    "cosine_sim_df.head()"
   ]
  },
  {
   "cell_type": "markdown",
   "metadata": {},
   "source": [
    "## 4.3. Classification Prediction"
   ]
  },
  {
   "cell_type": "markdown",
   "metadata": {},
   "source": [
    "From Cosine Similarity Matrix"
   ]
  },
  {
   "cell_type": "code",
   "execution_count": 111,
   "metadata": {},
   "outputs": [],
   "source": [
    "def load_cosine_similarity_matrix(file_path):\n",
    "    cosine_similarity_df = pd.read_csv(file_path, index_col=0)\n",
    "    cosine_similarity_df.columns = cosine_similarity_df.columns.astype(int)\n",
    "    return cosine_similarity_df\n",
    "\n",
    "def load_rating_matrix(file_path):\n",
    "    rating_matrix_df = pd.read_csv(file_path, index_col=0)\n",
    "    rating_matrix_df.columns = rating_matrix_df.columns.astype(int)\n",
    "    return rating_matrix_df\n",
    "\n",
    "def predict_rating_item_cosine(movie_id, customer_id, k, movie_similarity_df, item_customer_matrix):\n",
    "    # Check if the movie does not exist in the similarity matrix\n",
    "    if movie_id not in movie_similarity_df.index:\n",
    "        # Return the global average rating if the movie is not in the similarity matrix\n",
    "        return np.nan  # Using NaN for now, as we need to define global average outside this function\n",
    "    \n",
    "    # Ensure customer_id is in the index and movie_id in the columns\n",
    "    if customer_id not in item_customer_matrix.index or movie_id not in item_customer_matrix.columns:\n",
    "        return np.nan\n",
    "    \n",
    "    # Get the top K similar movies' similarity scores\n",
    "    top_k_movies = movie_similarity_df.loc[movie_id].sort_values(ascending=False).iloc[1:k+1]\n",
    "    \n",
    "    # Ensure that we're only considering movies present in item_customer_matrix to avoid key errors\n",
    "    common_movies = top_k_movies.index.intersection(item_customer_matrix.columns)\n",
    "    top_k_movies = top_k_movies.loc[common_movies]\n",
    "    \n",
    "    # Get the ratings given by the customer to these top K similar movies\n",
    "    rated_movies = item_customer_matrix.loc[customer_id, common_movies]\n",
    "    \n",
    "    # Filter out unrated movies\n",
    "    rated_movies = rated_movies.dropna()\n",
    "    top_k_movies = top_k_movies.loc[rated_movies.index]\n",
    "    \n",
    "    # If the customer hasn't rated any similar movies, return the average rating for this movie\n",
    "    if rated_movies.empty:\n",
    "        # if movie_id in item_customer_matrix.columns:\n",
    "        #     movie_ratings = item_customer_matrix[movie_id].dropna()\n",
    "        #     if not movie_ratings.empty:\n",
    "        #         return movie_ratings.mean()\n",
    "        #     else:\n",
    "                return np.nan  # Or global average if defined\n",
    "            \n",
    "              # Introduce a decay factor\n",
    "    decay_factor = np.linspace(1, 0.5, len(rated_movies))\n",
    "    weighted_average = np.dot(rated_movies, top_k_movies * decay_factor) / (top_k_movies * decay_factor).sum()\n",
    "\n",
    "        \n",
    "    # Compute the weighted average rating based on the similarity scores of the rated movies\n",
    "    weighted_average = np.dot(rated_movies, top_k_movies) / top_k_movies.sum() if top_k_movies.sum() > 0 else np.nan\n",
    "    \n",
    "    return weighted_average\n"
   ]
  },
  {
   "cell_type": "code",
   "execution_count": 112,
   "metadata": {},
   "outputs": [
    {
     "name": "stdout",
     "output_type": "stream",
     "text": [
      "For k=40, RMSE=1.043539932206654, MSE=1.0889755901098683\n",
      "For k=50, RMSE=1.043539932206654, MSE=1.0889755901098683\n"
     ]
    }
   ],
   "source": [
    "def evaluate_predictions(transformed_validate_file, movie_similarity_file, rating_matrix_file, k_values):\n",
    "    movie_similarity_df = load_cosine_similarity_matrix(movie_similarity_file)\n",
    "    rating_matrix_df = load_rating_matrix(rating_matrix_file)\n",
    "    transformed_validate_df = pd.read_csv(transformed_validate_file, index_col=0)\n",
    "    transformed_validate_df.columns = transformed_validate_df.columns.astype(int)\n",
    "\n",
    "    # Calculate the global average rating for fallback\n",
    "    global_average_rating = np.mean(rating_matrix_df.values[rating_matrix_df.values > 0])\n",
    "\n",
    "    # Check if the validation DataFrame is empty\n",
    "    if transformed_validate_df.empty:\n",
    "        print(\"The validation DataFrame is empty.\")\n",
    "        return []\n",
    "\n",
    "    # Check if there are any actual ratings in the validation DataFrame\n",
    "    if transformed_validate_df.notna().sum().sum() == 0:\n",
    "        print(\"There are no actual ratings in the validation DataFrame.\")\n",
    "        return []\n",
    "\n",
    "    results = []\n",
    "    for k in k_values:\n",
    "        actual_ratings = []\n",
    "        predicted_ratings = []\n",
    "        \n",
    "        for movie_id in transformed_validate_df.index:\n",
    "            for customer_id in transformed_validate_df.columns:\n",
    "                actual_rating = transformed_validate_df.at[movie_id, customer_id]\n",
    "                if pd.notna(actual_rating):\n",
    "                    predicted_rating = predict_rating_item_cosine(movie_id, customer_id, k, movie_similarity_df, rating_matrix_df)\n",
    "                    # If prediction is NaN, use the global average rating\n",
    "                    if pd.isna(predicted_rating):\n",
    "                        predicted_rating = global_average_rating\n",
    "                    actual_ratings.append(actual_rating)\n",
    "                    predicted_ratings.append(predicted_rating)\n",
    "\n",
    "        mse = mean_squared_error(actual_ratings, predicted_ratings)\n",
    "        rmse = np.sqrt(mse)\n",
    "        results.append((k, rmse, mse))\n",
    "    \n",
    "    return results\n",
    "\n",
    "# Example usage\n",
    "k_values = [40, 50]\n",
    "results = evaluate_predictions('validate_matrixv2.csv', 'movie_cosine_similarity_matrixv2.csv', 'movie_customer_rating_matrixv2.csv', k_values)\n",
    "\n",
    "for k, rmse, mse in results:\n",
    "    print(f'For k={k}, RMSE={rmse}, MSE={mse}')\n"
   ]
  },
  {
   "cell_type": "markdown",
   "metadata": {},
   "source": [
    "From Manhattan Distance matrix"
   ]
  },
  {
   "cell_type": "code",
   "execution_count": null,
   "metadata": {},
   "outputs": [],
   "source": [
    "def load_cosine_similarity_matrix(file_path):\n",
    "    cosine_similarity_df = pd.read_csv(file_path, index_col=0)\n",
    "    cosine_similarity_df.columns = cosine_similarity_df.columns.astype(int)\n",
    "    return cosine_similarity_df\n",
    "\n",
    "def load_rating_matrix(file_path):\n",
    "    rating_matrix_df = pd.read_csv(file_path, index_col=0)\n",
    "    rating_matrix_df.columns = rating_matrix_df.columns.astype(int)\n",
    "    return rating_matrix_df\n",
    "\n",
    "def predict_rating_item_cosine(movie_id, customer_id, k, movie_similarity_df, item_customer_matrix):\n",
    "    # Check if the movie does not exist in the similarity matrix\n",
    "    if movie_id not in movie_similarity_df.index:\n",
    "        # Return the global average rating if the movie is not in the similarity matrix\n",
    "        return np.nan  # Using NaN for now, as we need to define global average outside this function\n",
    "    \n",
    "    # Ensure customer_id is in the index and movie_id in the columns\n",
    "    if customer_id not in item_customer_matrix.index or movie_id not in item_customer_matrix.columns:\n",
    "        return np.nan\n",
    "    \n",
    "    # Get the top K similar movies' similarity scores\n",
    "    top_k_movies = movie_similarity_df.loc[movie_id].sort_values(ascending=False).iloc[1:k+1]\n",
    "    \n",
    "    # Ensure that we're only considering movies present in item_customer_matrix to avoid key errors\n",
    "    common_movies = top_k_movies.index.intersection(item_customer_matrix.columns)\n",
    "    top_k_movies = top_k_movies.loc[common_movies]\n",
    "    \n",
    "    # Get the ratings given by the customer to these top K similar movies\n",
    "    rated_movies = item_customer_matrix.loc[customer_id, common_movies]\n",
    "    \n",
    "    # Filter out unrated movies\n",
    "    rated_movies = rated_movies.dropna()\n",
    "    top_k_movies = top_k_movies.loc[rated_movies.index]\n",
    "    \n",
    "    # If the customer hasn't rated any similar movies, return the average rating for this movie\n",
    "    if rated_movies.empty:\n",
    "        # if movie_id in item_customer_matrix.columns:\n",
    "        #     movie_ratings = item_customer_matrix[movie_id].dropna()\n",
    "        #     if not movie_ratings.empty:\n",
    "        #         return movie_ratings.mean()\n",
    "        #     else:\n",
    "                return np.nan  # Or global average if defined\n",
    "            \n",
    "              # Introduce a decay factor\n",
    "    decay_factor = np.linspace(1, 0.5, len(rated_movies))\n",
    "    weighted_average = np.dot(rated_movies, top_k_movies * decay_factor) / (top_k_movies * decay_factor).sum()\n",
    "\n",
    "        \n",
    "    # Compute the weighted average rating based on the similarity scores of the rated movies\n",
    "    weighted_average = np.dot(rated_movies, top_k_movies) / top_k_movies.sum() if top_k_movies.sum() > 0 else np.nan\n",
    "    \n",
    "    return weighted_average\n"
   ]
  },
  {
   "cell_type": "code",
   "execution_count": 116,
   "metadata": {},
   "outputs": [
    {
     "name": "stdout",
     "output_type": "stream",
     "text": [
      "For k=40, RMSE=1.043539932206654, MSE=1.0889755901098683\n",
      "For k=50, RMSE=1.043539932206654, MSE=1.0889755901098683\n"
     ]
    }
   ],
   "source": [
    "def evaluate_predictions(transformed_validate_file, movie_similarity_file, rating_matrix_file, k_values):\n",
    "    movie_similarity_df = load_cosine_similarity_matrix(movie_similarity_file)\n",
    "    rating_matrix_df = load_rating_matrix(rating_matrix_file)\n",
    "    transformed_validate_df = pd.read_csv(transformed_validate_file, index_col=0)\n",
    "    transformed_validate_df.columns = transformed_validate_df.columns.astype(int)\n",
    "\n",
    "    # Calculate the global average rating for fallback\n",
    "    global_average_rating = np.mean(rating_matrix_df.values[rating_matrix_df.values > 0])\n",
    "\n",
    "    # Check if the validation DataFrame is empty\n",
    "    if transformed_validate_df.empty:\n",
    "        print(\"The validation DataFrame is empty.\")\n",
    "        return []\n",
    "\n",
    "    # Check if there are any actual ratings in the validation DataFrame\n",
    "    if transformed_validate_df.notna().sum().sum() == 0:\n",
    "        print(\"There are no actual ratings in the validation DataFrame.\")\n",
    "        return []\n",
    "\n",
    "    results = []\n",
    "    for k in k_values:\n",
    "        actual_ratings = []\n",
    "        predicted_ratings = []\n",
    "        \n",
    "        for movie_id in transformed_validate_df.index:\n",
    "            for customer_id in transformed_validate_df.columns:\n",
    "                actual_rating = transformed_validate_df.at[movie_id, customer_id]\n",
    "                if pd.notna(actual_rating):\n",
    "                    predicted_rating = predict_rating_item_cosine(movie_id, customer_id, k, movie_similarity_df, rating_matrix_df)\n",
    "                    # If prediction is NaN, use the global average rating\n",
    "                    if pd.isna(predicted_rating):\n",
    "                        predicted_rating = global_average_rating\n",
    "                    actual_ratings.append(actual_rating)\n",
    "                    predicted_ratings.append(predicted_rating)\n",
    "\n",
    "        mse = mean_squared_error(actual_ratings, predicted_ratings)\n",
    "        rmse = np.sqrt(mse)\n",
    "        results.append((k, rmse, mse))\n",
    "    \n",
    "    return results\n",
    "\n",
    "# Example usage\n",
    "k_values = [40, 50]\n",
    "results = evaluate_predictions('validate_matrixv2.csv', 'movie_manhattan_distance_matrixv2.csv', 'movie_customer_rating_matrixv2.csv', k_values)\n",
    "\n",
    "for k, rmse, mse in results:\n",
    "    print(f'For k={k}, RMSE={rmse}, MSE={mse}')"
   ]
  },
  {
   "cell_type": "markdown",
   "metadata": {},
   "source": [
    "No significant change observed as the database is too large and sample size is significantly small."
   ]
  },
  {
   "cell_type": "markdown",
   "metadata": {},
   "source": [
    "### Predicting Using Test Dataset"
   ]
  },
  {
   "cell_type": "code",
   "execution_count": 117,
   "metadata": {},
   "outputs": [],
   "source": [
    "def load_cosine_similarity_matrix(file_path):\n",
    "    cosine_similarity_df = pd.read_csv(file_path, index_col=0)\n",
    "    # Convert column names to integers if they're not already\n",
    "    cosine_similarity_df.columns = cosine_similarity_df.columns.astype(int)\n",
    "    return cosine_similarity_df\n",
    "\n",
    "def load_rating_matrix(file_path):\n",
    "    rating_matrix_df = pd.read_csv(file_path, index_col=0)\n",
    "    # Convert column names to integers if they're not already\n",
    "    rating_matrix_df.columns = rating_matrix_df.columns.astype(int)\n",
    "    return rating_matrix_df\n",
    "\n",
    "def predict_rating_item_cosine(movie_id, customer_id, k, movie_similarity_df, item_customer_matrix):\n",
    "    # If the movie or customer is not in the respective matrix, return global average rating\n",
    "    if movie_id not in movie_similarity_df.index or customer_id not in item_customer_matrix.index:\n",
    "        global_average = np.nanmean(item_customer_matrix.values)\n",
    "        return global_average\n",
    "\n",
    "    # Retrieve similarity scores for the target movie against all others and sort them\n",
    "    similarities = movie_similarity_df.loc[movie_id]\n",
    "    sorted_similarities = similarities.sort_values(ascending=False)\n",
    "\n",
    "    # Filter out the target movie itself and take the top k similar movies\n",
    "    top_k_similar_movies = sorted_similarities.iloc[1:k+1]\n",
    "\n",
    "    # Check if these top k movies have been rated by the customer\n",
    "    customer_ratings = item_customer_matrix.loc[customer_id, top_k_similar_movies.index].dropna()\n",
    "\n",
    "    # If none of the top k similar movies have been rated by the customer, use movie or global average\n",
    "    if customer_ratings.empty:\n",
    "        if movie_id in item_customer_matrix.columns:\n",
    "            movie_average = np.nanmean(item_customer_matrix[movie_id])\n",
    "            return movie_average\n",
    "        return global_average\n",
    "\n",
    "    # Calculate the weighted average rating using similarities as weights\n",
    "    weighted_ratings_sum = np.dot(customer_ratings, top_k_similar_movies[customer_ratings.index])\n",
    "    similarity_sum = top_k_similar_movies[customer_ratings.index].sum()\n",
    "\n",
    "    if similarity_sum > 0:\n",
    "        return weighted_ratings_sum / similarity_sum\n",
    "    else:\n",
    "        return np.nanmean(item_customer_matrix.values)\n"
   ]
  },
  {
   "cell_type": "code",
   "execution_count": 120,
   "metadata": {},
   "outputs": [
    {
     "name": "stdout",
     "output_type": "stream",
     "text": [
      "For k=40, RMSE=1.043539932206654, MSE=1.0889755901098683\n"
     ]
    }
   ],
   "source": [
    "def evaluate_predictions(transformed_validate_file, similarity_matrix_file, rating_matrix_file, k_values):\n",
    "    movie_similarity_df = load_cosine_similarity_matrix(similarity_matrix_file)\n",
    "    rating_matrix_df = load_rating_matrix(rating_matrix_file)\n",
    "    transformed_validate_df = pd.read_csv(transformed_validate_file, index_col=0)\n",
    "    transformed_validate_df.columns = transformed_validate_df.columns.astype(int)\n",
    "\n",
    "    # If the validation DataFrame is empty or contains no actual ratings, return early\n",
    "    if transformed_validate_df.empty or transformed_validate_df.notna().sum().sum() == 0:\n",
    "        print(\"Validation DataFrame is empty or contains no actual ratings.\")\n",
    "        return []\n",
    "\n",
    "    results = []\n",
    "    for k in k_values:\n",
    "        actual_ratings, predicted_ratings = [], []\n",
    "\n",
    "        for movie_id in transformed_validate_df.index:\n",
    "            for customer_id in transformed_validate_df.columns:\n",
    "                actual_rating = transformed_validate_df.at[movie_id, customer_id]\n",
    "                if pd.notna(actual_rating):\n",
    "                    predicted_rating = predict_rating_item_cosine(movie_id, customer_id, k, movie_similarity_df, rating_matrix_df)\n",
    "\n",
    "                    # Ensure there's a fallback for NaN predictions\n",
    "                    if pd.isna(predicted_rating):\n",
    "                        # Could be set to the global average or movie average as implemented in predict_rating_item_cosine\n",
    "                        predicted_rating = np.nanmean(rating_matrix_df.values)\n",
    "\n",
    "                    actual_ratings.append(actual_rating)\n",
    "                    predicted_ratings.append(predicted_rating)\n",
    "\n",
    "        # Compute and store the MSE and RMSE for the current value of k\n",
    "        mse = mean_squared_error(actual_ratings, predicted_ratings)\n",
    "        rmse = np.sqrt(mse)\n",
    "        results.append((k, rmse, mse))\n",
    "\n",
    "    return results\n",
    "\n",
    "# Example usage\n",
    "k_values = [40]  # Now testing with a range of k values\n",
    "similarity_matrix_file = 'movie_cosine_similarity_matrixv2.csv'  # or movie_manhattan_distance_matrixv2.csv\n",
    "rating_matrix_file = 'movie_customer_rating_matrixv2.csv'\n",
    "transformed_validate_file = 'validate_matrixv2.csv'\n",
    "\n",
    "results = evaluate_predictions(transformed_validate_file, similarity_matrix_file, rating_matrix_file, k_values)\n",
    "\n",
    "for k, rmse, mse in results:\n",
    "    print(f'For k={k}, RMSE={rmse}, MSE={mse}')\n"
   ]
  },
  {
   "cell_type": "markdown",
   "metadata": {},
   "source": [
    "# 5. Conclusion\n",
    "- When comparing Matrix Creation Method, Manhattan Distance is faster and more accurate whith regards to Cosine Similarity method. For methods used in Surprise Library, MSD is most accurate followed by Pearson Correlation then comes Cosine Similarity.\n",
    "\n",
    "- In terms of speed Manhattan-Distance is faster when using Matrix Creation Method. In Surprise library, Pearson is the slowest method.\n",
    "\n",
    "- For Netflix dataset, smaller the sample size lower the accuracy of the model as the sample size increases accuracy of the model also increases with time to train the model."
   ]
  }
 ],
 "metadata": {
  "kernelspec": {
   "display_name": "base",
   "language": "python",
   "name": "python3"
  },
  "language_info": {
   "codemirror_mode": {
    "name": "ipython",
    "version": 3
   },
   "file_extension": ".py",
   "mimetype": "text/x-python",
   "name": "python",
   "nbconvert_exporter": "python",
   "pygments_lexer": "ipython3",
   "version": "3.11.4"
  }
 },
 "nbformat": 4,
 "nbformat_minor": 2
}
